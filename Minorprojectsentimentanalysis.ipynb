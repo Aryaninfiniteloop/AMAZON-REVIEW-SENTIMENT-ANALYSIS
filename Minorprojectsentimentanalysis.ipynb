{
 "cells": [
  {
   "cell_type": "code",
   "execution_count": 4,
   "id": "5fe59c52-5262-47ab-967c-9f5d30bb97e7",
   "metadata": {},
   "outputs": [
    {
     "data": {
      "text/html": [
       "        <script type=\"text/javascript\">\n",
       "        window.PlotlyConfig = {MathJaxConfig: 'local'};\n",
       "        if (window.MathJax && window.MathJax.Hub && window.MathJax.Hub.Config) {window.MathJax.Hub.Config({SVG: {font: \"STIX-Web\"}});}\n",
       "        if (typeof require !== 'undefined') {\n",
       "        require.undef(\"plotly\");\n",
       "        requirejs.config({\n",
       "            paths: {\n",
       "                'plotly': ['https://cdn.plot.ly/plotly-2.12.1.min']\n",
       "            }\n",
       "        });\n",
       "        require(['plotly'], function(Plotly) {\n",
       "            window._Plotly = Plotly;\n",
       "        });\n",
       "        }\n",
       "        </script>\n",
       "        "
      ]
     },
     "metadata": {},
     "output_type": "display_data"
    },
    {
     "data": {
      "text/html": [
       "        <script type=\"text/javascript\">\n",
       "        window.PlotlyConfig = {MathJaxConfig: 'local'};\n",
       "        if (window.MathJax && window.MathJax.Hub && window.MathJax.Hub.Config) {window.MathJax.Hub.Config({SVG: {font: \"STIX-Web\"}});}\n",
       "        if (typeof require !== 'undefined') {\n",
       "        require.undef(\"plotly\");\n",
       "        requirejs.config({\n",
       "            paths: {\n",
       "                'plotly': ['https://cdn.plot.ly/plotly-2.12.1.min']\n",
       "            }\n",
       "        });\n",
       "        require(['plotly'], function(Plotly) {\n",
       "            window._Plotly = Plotly;\n",
       "        });\n",
       "        }\n",
       "        </script>\n",
       "        "
      ]
     },
     "metadata": {},
     "output_type": "display_data"
    }
   ],
   "source": [
    "import numpy as np\n",
    "import pandas as pd\n",
    "import nltk\n",
    "from nltk.sentiment.vader import SentimentIntensityAnalyzer\n",
    "import re\n",
    "from wordcloud import WordCloud\n",
    "import seaborn as sns\n",
    "import matplotlib.pyplot as plt\n",
    "import cufflinks as cf\n",
    "%matplotlib inline\n",
    "from plotly.offline import init_notebook_mode,iplot\n",
    "init_notebook_mode(connected = True)\n",
    "cf.go_offline();\n",
    "from plotly.subplots import make_subplots\n",
    "import warnings\n",
    "warnings.filterwarnings(\"ignore\")\n",
    "warnings.warn(\"this will not shown\")\n",
    "pd.set_option('display.max_columns', None)"
   ]
  },
  {
   "cell_type": "code",
   "execution_count": 5,
   "id": "0ab3a23e-43e2-4fba-9c8c-28acd8255e45",
   "metadata": {},
   "outputs": [],
   "source": [
    "df = pd.read_csv(\"amazon.csv\")"
   ]
  },
  {
   "cell_type": "code",
   "execution_count": 6,
   "id": "bc6fd59c-f3c0-4ddb-8e29-06073f9baefc",
   "metadata": {},
   "outputs": [
    {
     "data": {
      "text/plain": [
       "<bound method NDFrame.tail of       Unnamed: 0  reviewerName  overall  \\\n",
       "0              0           NaN        4   \n",
       "1              1          0mie        5   \n",
       "2              2           1K3        4   \n",
       "3              3           1m2        5   \n",
       "4              4  2&amp;1/2Men        5   \n",
       "...          ...           ...      ...   \n",
       "4911        4911            Zo        5   \n",
       "4912        4912     Z S Liske        5   \n",
       "4913        4913      Z Taylor        5   \n",
       "4914        4914           Zza        5   \n",
       "4915        4915         Aryan        5   \n",
       "\n",
       "                                             reviewText  reviewTime  day_diff  \\\n",
       "0                                            No issues.  23-07-2014       138   \n",
       "1     Purchased this for my device, it worked as adv...  25-10-2013       409   \n",
       "2     it works as expected. I should have sprung for...  23-12-2012       715   \n",
       "3     This think has worked out great.Had a diff. br...  21-11-2013       382   \n",
       "4     Bought it with Retail Packaging, arrived legit...  13-07-2013       513   \n",
       "...                                                 ...         ...       ...   \n",
       "4911  Used this for extending the capabilities of my...  22-08-2013       473   \n",
       "4912  Great card that is very fast and reliable. It ...  31-03-2014       252   \n",
       "4913  Good amount of space for the stuff I want to d...  16-09-2013       448   \n",
       "4914  I've heard bad things about this 64gb Micro SD...  01-02-2014       310   \n",
       "4915                                               best  08-04-2014       444   \n",
       "\n",
       "      helpful_yes  helpful_no  total_vote  score_pos_neg_diff  \\\n",
       "0               0           0           0                   0   \n",
       "1               0           0           0                   0   \n",
       "2               0           0           0                   0   \n",
       "3               0           0           0                   0   \n",
       "4               0           0           0                   0   \n",
       "...           ...         ...         ...                 ...   \n",
       "4911            0           0           0                   0   \n",
       "4912            0           0           0                   0   \n",
       "4913            0           0           0                   0   \n",
       "4914            0           0           0                   0   \n",
       "4915            0           0           0                   0   \n",
       "\n",
       "      score_average_rating  wilson_lower_bound  \n",
       "0                      0.0                 0.0  \n",
       "1                      0.0                 0.0  \n",
       "2                      0.0                 0.0  \n",
       "3                      0.0                 0.0  \n",
       "4                      0.0                 0.0  \n",
       "...                    ...                 ...  \n",
       "4911                   0.0                 0.0  \n",
       "4912                   0.0                 0.0  \n",
       "4913                   0.0                 0.0  \n",
       "4914                   0.0                 0.0  \n",
       "4915                   0.0                 0.0  \n",
       "\n",
       "[4916 rows x 12 columns]>"
      ]
     },
     "execution_count": 6,
     "metadata": {},
     "output_type": "execute_result"
    }
   ],
   "source": [
    "df.tail"
   ]
  },
  {
   "cell_type": "code",
   "execution_count": 3,
   "id": "52b5d8a8-ea74-4bef-86fc-e479ef8b7418",
   "metadata": {},
   "outputs": [
    {
     "data": {
      "text/html": [
       "<div>\n",
       "<style scoped>\n",
       "    .dataframe tbody tr th:only-of-type {\n",
       "        vertical-align: middle;\n",
       "    }\n",
       "\n",
       "    .dataframe tbody tr th {\n",
       "        vertical-align: top;\n",
       "    }\n",
       "\n",
       "    .dataframe thead th {\n",
       "        text-align: right;\n",
       "    }\n",
       "</style>\n",
       "<table border=\"1\" class=\"dataframe\">\n",
       "  <thead>\n",
       "    <tr style=\"text-align: right;\">\n",
       "      <th></th>\n",
       "      <th>Unnamed: 0</th>\n",
       "      <th>reviewerName</th>\n",
       "      <th>overall</th>\n",
       "      <th>reviewText</th>\n",
       "      <th>reviewTime</th>\n",
       "      <th>day_diff</th>\n",
       "      <th>helpful_yes</th>\n",
       "      <th>helpful_no</th>\n",
       "      <th>total_vote</th>\n",
       "      <th>score_pos_neg_diff</th>\n",
       "      <th>score_average_rating</th>\n",
       "      <th>wilson_lower_bound</th>\n",
       "    </tr>\n",
       "  </thead>\n",
       "  <tbody>\n",
       "    <tr>\n",
       "      <th>0</th>\n",
       "      <td>0</td>\n",
       "      <td>NaN</td>\n",
       "      <td>4</td>\n",
       "      <td>No issues.</td>\n",
       "      <td>23-07-2014</td>\n",
       "      <td>138</td>\n",
       "      <td>0</td>\n",
       "      <td>0</td>\n",
       "      <td>0</td>\n",
       "      <td>0</td>\n",
       "      <td>0.0</td>\n",
       "      <td>0.0</td>\n",
       "    </tr>\n",
       "    <tr>\n",
       "      <th>1</th>\n",
       "      <td>1</td>\n",
       "      <td>0mie</td>\n",
       "      <td>5</td>\n",
       "      <td>Purchased this for my device, it worked as adv...</td>\n",
       "      <td>25-10-2013</td>\n",
       "      <td>409</td>\n",
       "      <td>0</td>\n",
       "      <td>0</td>\n",
       "      <td>0</td>\n",
       "      <td>0</td>\n",
       "      <td>0.0</td>\n",
       "      <td>0.0</td>\n",
       "    </tr>\n",
       "    <tr>\n",
       "      <th>2</th>\n",
       "      <td>2</td>\n",
       "      <td>1K3</td>\n",
       "      <td>4</td>\n",
       "      <td>it works as expected. I should have sprung for...</td>\n",
       "      <td>23-12-2012</td>\n",
       "      <td>715</td>\n",
       "      <td>0</td>\n",
       "      <td>0</td>\n",
       "      <td>0</td>\n",
       "      <td>0</td>\n",
       "      <td>0.0</td>\n",
       "      <td>0.0</td>\n",
       "    </tr>\n",
       "    <tr>\n",
       "      <th>3</th>\n",
       "      <td>3</td>\n",
       "      <td>1m2</td>\n",
       "      <td>5</td>\n",
       "      <td>This think has worked out great.Had a diff. br...</td>\n",
       "      <td>21-11-2013</td>\n",
       "      <td>382</td>\n",
       "      <td>0</td>\n",
       "      <td>0</td>\n",
       "      <td>0</td>\n",
       "      <td>0</td>\n",
       "      <td>0.0</td>\n",
       "      <td>0.0</td>\n",
       "    </tr>\n",
       "    <tr>\n",
       "      <th>4</th>\n",
       "      <td>4</td>\n",
       "      <td>2&amp;amp;1/2Men</td>\n",
       "      <td>5</td>\n",
       "      <td>Bought it with Retail Packaging, arrived legit...</td>\n",
       "      <td>13-07-2013</td>\n",
       "      <td>513</td>\n",
       "      <td>0</td>\n",
       "      <td>0</td>\n",
       "      <td>0</td>\n",
       "      <td>0</td>\n",
       "      <td>0.0</td>\n",
       "      <td>0.0</td>\n",
       "    </tr>\n",
       "  </tbody>\n",
       "</table>\n",
       "</div>"
      ],
      "text/plain": [
       "   Unnamed: 0  reviewerName  overall  \\\n",
       "0           0           NaN        4   \n",
       "1           1          0mie        5   \n",
       "2           2           1K3        4   \n",
       "3           3           1m2        5   \n",
       "4           4  2&amp;1/2Men        5   \n",
       "\n",
       "                                          reviewText  reviewTime  day_diff  \\\n",
       "0                                         No issues.  23-07-2014       138   \n",
       "1  Purchased this for my device, it worked as adv...  25-10-2013       409   \n",
       "2  it works as expected. I should have sprung for...  23-12-2012       715   \n",
       "3  This think has worked out great.Had a diff. br...  21-11-2013       382   \n",
       "4  Bought it with Retail Packaging, arrived legit...  13-07-2013       513   \n",
       "\n",
       "   helpful_yes  helpful_no  total_vote  score_pos_neg_diff  \\\n",
       "0            0           0           0                   0   \n",
       "1            0           0           0                   0   \n",
       "2            0           0           0                   0   \n",
       "3            0           0           0                   0   \n",
       "4            0           0           0                   0   \n",
       "\n",
       "   score_average_rating  wilson_lower_bound  \n",
       "0                   0.0                 0.0  \n",
       "1                   0.0                 0.0  \n",
       "2                   0.0                 0.0  \n",
       "3                   0.0                 0.0  \n",
       "4                   0.0                 0.0  "
      ]
     },
     "execution_count": 3,
     "metadata": {},
     "output_type": "execute_result"
    }
   ],
   "source": [
    "df.head()"
   ]
  },
  {
   "cell_type": "code",
   "execution_count": 4,
   "id": "2c692501-d575-4ed4-beea-de79bfbef52f",
   "metadata": {},
   "outputs": [
    {
     "data": {
      "text/html": [
       "<div>\n",
       "<style scoped>\n",
       "    .dataframe tbody tr th:only-of-type {\n",
       "        vertical-align: middle;\n",
       "    }\n",
       "\n",
       "    .dataframe tbody tr th {\n",
       "        vertical-align: top;\n",
       "    }\n",
       "\n",
       "    .dataframe thead th {\n",
       "        text-align: right;\n",
       "    }\n",
       "</style>\n",
       "<table border=\"1\" class=\"dataframe\">\n",
       "  <thead>\n",
       "    <tr style=\"text-align: right;\">\n",
       "      <th></th>\n",
       "      <th>reviewerName</th>\n",
       "      <th>overall</th>\n",
       "      <th>reviewText</th>\n",
       "      <th>reviewTime</th>\n",
       "      <th>day_diff</th>\n",
       "      <th>helpful_yes</th>\n",
       "      <th>helpful_no</th>\n",
       "      <th>total_vote</th>\n",
       "      <th>score_pos_neg_diff</th>\n",
       "      <th>score_average_rating</th>\n",
       "      <th>wilson_lower_bound</th>\n",
       "    </tr>\n",
       "  </thead>\n",
       "  <tbody>\n",
       "    <tr>\n",
       "      <th>2031</th>\n",
       "      <td>Hyoun Kim \"Faluzure\"</td>\n",
       "      <td>5</td>\n",
       "      <td>[[ UPDATE - 6/19/2014 ]]So my lovely wife boug...</td>\n",
       "      <td>05-01-2013</td>\n",
       "      <td>702</td>\n",
       "      <td>1952</td>\n",
       "      <td>68</td>\n",
       "      <td>2020</td>\n",
       "      <td>1884</td>\n",
       "      <td>0.966337</td>\n",
       "      <td>0.957544</td>\n",
       "    </tr>\n",
       "    <tr>\n",
       "      <th>3449</th>\n",
       "      <td>NLee the Engineer</td>\n",
       "      <td>5</td>\n",
       "      <td>I have tested dozens of SDHC and micro-SDHC ca...</td>\n",
       "      <td>26-09-2012</td>\n",
       "      <td>803</td>\n",
       "      <td>1428</td>\n",
       "      <td>77</td>\n",
       "      <td>1505</td>\n",
       "      <td>1351</td>\n",
       "      <td>0.948837</td>\n",
       "      <td>0.936519</td>\n",
       "    </tr>\n",
       "    <tr>\n",
       "      <th>4212</th>\n",
       "      <td>SkincareCEO</td>\n",
       "      <td>1</td>\n",
       "      <td>NOTE:  please read the last update (scroll to ...</td>\n",
       "      <td>08-05-2013</td>\n",
       "      <td>579</td>\n",
       "      <td>1568</td>\n",
       "      <td>126</td>\n",
       "      <td>1694</td>\n",
       "      <td>1442</td>\n",
       "      <td>0.925620</td>\n",
       "      <td>0.912139</td>\n",
       "    </tr>\n",
       "    <tr>\n",
       "      <th>317</th>\n",
       "      <td>Amazon Customer \"Kelly\"</td>\n",
       "      <td>1</td>\n",
       "      <td>If your card gets hot enough to be painful, it...</td>\n",
       "      <td>09-02-2012</td>\n",
       "      <td>1033</td>\n",
       "      <td>422</td>\n",
       "      <td>73</td>\n",
       "      <td>495</td>\n",
       "      <td>349</td>\n",
       "      <td>0.852525</td>\n",
       "      <td>0.818577</td>\n",
       "    </tr>\n",
       "    <tr>\n",
       "      <th>4672</th>\n",
       "      <td>Twister</td>\n",
       "      <td>5</td>\n",
       "      <td>Sandisk announcement of the first 128GB micro ...</td>\n",
       "      <td>03-07-2014</td>\n",
       "      <td>158</td>\n",
       "      <td>45</td>\n",
       "      <td>4</td>\n",
       "      <td>49</td>\n",
       "      <td>41</td>\n",
       "      <td>0.918367</td>\n",
       "      <td>0.808109</td>\n",
       "    </tr>\n",
       "  </tbody>\n",
       "</table>\n",
       "</div>"
      ],
      "text/plain": [
       "                 reviewerName  overall  \\\n",
       "2031     Hyoun Kim \"Faluzure\"        5   \n",
       "3449        NLee the Engineer        5   \n",
       "4212              SkincareCEO        1   \n",
       "317   Amazon Customer \"Kelly\"        1   \n",
       "4672                  Twister        5   \n",
       "\n",
       "                                             reviewText  reviewTime  day_diff  \\\n",
       "2031  [[ UPDATE - 6/19/2014 ]]So my lovely wife boug...  05-01-2013       702   \n",
       "3449  I have tested dozens of SDHC and micro-SDHC ca...  26-09-2012       803   \n",
       "4212  NOTE:  please read the last update (scroll to ...  08-05-2013       579   \n",
       "317   If your card gets hot enough to be painful, it...  09-02-2012      1033   \n",
       "4672  Sandisk announcement of the first 128GB micro ...  03-07-2014       158   \n",
       "\n",
       "      helpful_yes  helpful_no  total_vote  score_pos_neg_diff  \\\n",
       "2031         1952          68        2020                1884   \n",
       "3449         1428          77        1505                1351   \n",
       "4212         1568         126        1694                1442   \n",
       "317           422          73         495                 349   \n",
       "4672           45           4          49                  41   \n",
       "\n",
       "      score_average_rating  wilson_lower_bound  \n",
       "2031              0.966337            0.957544  \n",
       "3449              0.948837            0.936519  \n",
       "4212              0.925620            0.912139  \n",
       "317               0.852525            0.818577  \n",
       "4672              0.918367            0.808109  "
      ]
     },
     "execution_count": 4,
     "metadata": {},
     "output_type": "execute_result"
    }
   ],
   "source": [
    "df = df.sort_values(\"wilson_lower_bound\", ascending=False)\n",
    "df.drop('Unnamed: 0', axis=1, inplace=True)\n",
    "df.head()"
   ]
  },
  {
   "cell_type": "code",
   "execution_count": 5,
   "id": "13edecdd-1346-48e1-84d1-9b891f0b58a7",
   "metadata": {},
   "outputs": [
    {
     "name": "stdout",
     "output_type": "stream",
     "text": [
      "~~~~~~~~~~~~~~~~~~~~~~~~~~~~~~~~~~~~~~SHAPE~~~~~~~~~~~~~~~~~~~~~~~~~~~~~~~~~~~~~~~\n",
      "Rows: 4915\n",
      "Columns: 11\n",
      "~~~~~~~~~~~~~~~~~~~~~~~~~~~~~~~~~~~~~~TYPES~~~~~~~~~~~~~~~~~~~~~~~~~~~~~~~~~~~~~~~\n",
      "reviewerName             object\n",
      "overall                   int64\n",
      "reviewText               object\n",
      "reviewTime               object\n",
      "day_diff                  int64\n",
      "helpful_yes               int64\n",
      "helpful_no                int64\n",
      "total_vote                int64\n",
      "score_pos_neg_diff        int64\n",
      "score_average_rating    float64\n",
      "wilson_lower_bound      float64\n",
      "dtype: object\n",
      "~~~~~~~~~~~~~~~~~~~~~~~~~~~~~~~~~~~~~~~~~~~~~~~~~~~~~~~~~~~~~~~~~~~~~~~~~~~~~~~~~~\n",
      "              Missing Values  Ratio\n",
      "reviewerName               1   0.02\n",
      "reviewText                 1   0.02\n",
      "~~~~~~~~~~~~~~~~~~~~~~~~~~~~~~~~~DUPLICATED VALUES~~~~~~~~~~~~~~~~~~~~~~~~~~~~~~~~~\n",
      "0\n",
      "~~~~~~~~~~~~~~~~~~~~~~~~~~~~~~~~~~~~QUANTILES~~~~~~~~~~~~~~~~~~~~~~~~~~~~~~~~~~~~~\n",
      "      overall  day_diff  helpful_yes  helpful_no  total_vote  \\\n",
      "0.00      1.0       1.0          0.0         0.0         0.0   \n",
      "0.05      2.0      98.0          0.0         0.0         0.0   \n",
      "0.50      5.0     431.0          0.0         0.0         0.0   \n",
      "0.95      5.0     748.0          1.0         0.0         1.0   \n",
      "0.99      5.0     943.0          3.0         2.0         4.0   \n",
      "1.00      5.0    1064.0       1952.0       183.0      2020.0   \n",
      "\n",
      "      score_pos_neg_diff  score_average_rating  wilson_lower_bound  \n",
      "0.00              -130.0                   0.0            0.000000  \n",
      "0.05                 0.0                   0.0            0.000000  \n",
      "0.50                 0.0                   0.0            0.000000  \n",
      "0.95                 1.0                   1.0            0.206549  \n",
      "0.99                 2.0                   1.0            0.342380  \n",
      "1.00              1884.0                   1.0            0.957544  \n"
     ]
    }
   ],
   "source": [
    "import pandas as pd\n",
    "import numpy as np\n",
    " \n",
    "def missing_values_analysis(df):\n",
    "    na_columns = [col for col in df.columns if df[col].isnull().sum() > 0]\n",
    "    n_miss = df[na_columns].isnull().sum().sort_values(ascending=True)\n",
    "    ratio = (df[na_columns].isnull().sum() / df.shape[0] * 100).sort_values(ascending=True)\n",
    "    missing_df = pd.concat([n_miss, np.round(ratio, 2)], axis=1, keys=['Missing Values', 'Ratio'])\n",
    "    missing_df = pd.DataFrame(missing_df)\n",
    "    return missing_df\n",
    "\n",
    "def check_dataframe(df, head=5, tail=5):\n",
    "    print(\"SHAPE\".center(82, '~'))\n",
    "    print('Rows: {}'.format(df.shape[0]))\n",
    "    print('Columns: {}'.format(df.shape[1]))\n",
    "    print(\"TYPES\".center(82, '~'))\n",
    "    print(df.dtypes)\n",
    "    print(\"\".center(82, '~'))\n",
    "    print(missing_values_analysis(df))\n",
    "    print('DUPLICATED VALUES'.center(83, '~'))\n",
    "    print(df.duplicated().sum())\n",
    "    print(\"QUANTILES\".center(82, '~'))\n",
    "    try:\n",
    "        quantile_cols = df.select_dtypes(include=np.number).columns\n",
    "        print(df[quantile_cols].quantile([0, 0.05, 0.50, 0.95, 0.99, 1]))\n",
    "    except TypeError as e:\n",
    "        print(\"Error calculating quantiles. Ensure all numeric columns contain numbers only.\")\n",
    "        print(e)\n",
    "        \n",
    "check_dataframe(df)\n"
   ]
  },
  {
   "cell_type": "code",
   "execution_count": 6,
   "id": "d2bdd1d4-1a2f-40a5-8b2a-956ed260aa4f",
   "metadata": {},
   "outputs": [
    {
     "data": {
      "text/html": [
       "<div>\n",
       "<style scoped>\n",
       "    .dataframe tbody tr th:only-of-type {\n",
       "        vertical-align: middle;\n",
       "    }\n",
       "\n",
       "    .dataframe tbody tr th {\n",
       "        vertical-align: top;\n",
       "    }\n",
       "\n",
       "    .dataframe thead th {\n",
       "        text-align: right;\n",
       "    }\n",
       "</style>\n",
       "<table border=\"1\" class=\"dataframe\">\n",
       "  <thead>\n",
       "    <tr style=\"text-align: right;\">\n",
       "      <th></th>\n",
       "      <th>Variable</th>\n",
       "      <th>Classes</th>\n",
       "    </tr>\n",
       "  </thead>\n",
       "  <tbody>\n",
       "    <tr>\n",
       "      <th>0</th>\n",
       "      <td>reviewText</td>\n",
       "      <td>4912</td>\n",
       "    </tr>\n",
       "    <tr>\n",
       "      <th>1</th>\n",
       "      <td>reviewerName</td>\n",
       "      <td>4594</td>\n",
       "    </tr>\n",
       "    <tr>\n",
       "      <th>2</th>\n",
       "      <td>reviewTime</td>\n",
       "      <td>690</td>\n",
       "    </tr>\n",
       "    <tr>\n",
       "      <th>3</th>\n",
       "      <td>day_diff</td>\n",
       "      <td>690</td>\n",
       "    </tr>\n",
       "    <tr>\n",
       "      <th>4</th>\n",
       "      <td>wilson_lower_bound</td>\n",
       "      <td>40</td>\n",
       "    </tr>\n",
       "    <tr>\n",
       "      <th>5</th>\n",
       "      <td>score_average_rating</td>\n",
       "      <td>28</td>\n",
       "    </tr>\n",
       "    <tr>\n",
       "      <th>6</th>\n",
       "      <td>score_pos_neg_diff</td>\n",
       "      <td>27</td>\n",
       "    </tr>\n",
       "    <tr>\n",
       "      <th>7</th>\n",
       "      <td>total_vote</td>\n",
       "      <td>26</td>\n",
       "    </tr>\n",
       "    <tr>\n",
       "      <th>8</th>\n",
       "      <td>helpful_yes</td>\n",
       "      <td>23</td>\n",
       "    </tr>\n",
       "    <tr>\n",
       "      <th>9</th>\n",
       "      <td>helpful_no</td>\n",
       "      <td>17</td>\n",
       "    </tr>\n",
       "    <tr>\n",
       "      <th>10</th>\n",
       "      <td>overall</td>\n",
       "      <td>5</td>\n",
       "    </tr>\n",
       "  </tbody>\n",
       "</table>\n",
       "</div>"
      ],
      "text/plain": [
       "                Variable  Classes\n",
       "0             reviewText     4912\n",
       "1           reviewerName     4594\n",
       "2             reviewTime      690\n",
       "3               day_diff      690\n",
       "4     wilson_lower_bound       40\n",
       "5   score_average_rating       28\n",
       "6     score_pos_neg_diff       27\n",
       "7             total_vote       26\n",
       "8            helpful_yes       23\n",
       "9             helpful_no       17\n",
       "10               overall        5"
      ]
     },
     "execution_count": 6,
     "metadata": {},
     "output_type": "execute_result"
    }
   ],
   "source": [
    "def check_class(dataframe):\n",
    "    nunique_df = pd.DataFrame({'Variable': dataframe.columns,\n",
    "                                 'Classes': [dataframe[i].nunique() for i in dataframe.columns]})\n",
    "    nunique_df = nunique_df.sort_values('Classes', ascending=False)\n",
    "    nunique_df = nunique_df.reset_index(drop=True)\n",
    "    return nunique_df\n",
    "\n",
    "check_class(df)\n"
   ]
  },
  {
   "cell_type": "code",
   "execution_count": 7,
   "id": "70a0e2c6-3e30-4109-ab96-b6e9fc1f3c1f",
   "metadata": {},
   "outputs": [],
   "source": [
    "def categorical_variable_summary(df, column_name):\n",
    "    fig = make_subplots(\n",
    "        rows=1, cols=2,\n",
    "        subplot_titles=('Countplot', 'Percentage'),\n",
    "        specs=[[{\"type\": \"xy\"}, {\"type\": \"domain\"}]]\n",
    "    )\n",
    "    \n",
    "    fig.add_trace(\n",
    "        go.Bar(\n",
    "            y=df[column_name].value_counts().values.tolist(),\n",
    "            x=[str(i) for i in df[column_name].value_counts().index],\n",
    "            text=df[column_name].value_counts().values.tolist(),\n",
    "            textfont=dict(size=14),\n",
    "            name=column_name,\n",
    "            textposition='auto',\n",
    "            showlegend=False,\n",
    "            marker=dict(color=constraints, line=dict(color='#DBE6EC', width=1))\n",
    "        ),\n",
    "        row=1, col=1\n",
    "    )\n",
    "\n",
    "    fig.add_trace(\n",
    "        go.Pie(\n",
    "            labels=df[column_name].value_counts().keys(),\n",
    "            values=df[column_name].value_counts().values,\n",
    "            textfont=dict(size=18),\n",
    "            textposition='auto',\n",
    "            showlegend=False,\n",
    "            name=column_name,\n",
    "            marker=dict(colors=constraints)\n",
    "        ),\n",
    "        row=1, col=2\n",
    "    )\n",
    "\n",
    "    fig.update_layout(\n",
    "        title={'text': column_name, 'y': 0.9, 'x': 0.5, 'xanchor': 'center', 'yanchor': 'top'},\n",
    "        template='plotly_white'\n",
    "    )\n",
    "    \n",
    "    iplot(fig)  \n",
    "\n"
   ]
  },
  {
   "cell_type": "code",
   "execution_count": 8,
   "id": "217af1fd-434f-40d4-9c8f-ac7b051ca495",
   "metadata": {},
   "outputs": [],
   "source": [
    "def categorical_variable_summary(df, column_name):\n",
    "    colors = ['#1f77b4', '#ff7f0e', '#2ca02c', '#d62728', '#9467bd', '#8c564b', '#e377c2', '#7f7f7f', '#bcbd22', '#17becf']\n",
    "    \n",
    "    fig = make_subplots(\n",
    "        rows=1, cols=2,\n",
    "        subplot_titles=('Countplot', 'Percentage'),\n",
    "        specs=[[{\"type\": \"xy\"}, {\"type\": \"domain\"}]]\n",
    "    )\n",
    "    \n",
    "    fig.add_trace(\n",
    "        go.Bar(\n",
    "            y=df[column_name].value_counts().values.tolist(),\n",
    "            x=[str(i) for i in df[column_name].value_counts().index],\n",
    "            text=df[column_name].value_counts().values.tolist(),\n",
    "            textfont=dict(size=14),\n",
    "            name=column_name,\n",
    "            textposition='auto',\n",
    "            showlegend=False,\n",
    "            marker=dict(color=colors[:len(df[column_name].value_counts())], line=dict(color='#DBE6EC', width=1))\n",
    "        ),\n",
    "        row=1, col=1\n",
    "    )\n",
    "\n",
    "    fig.add_trace(\n",
    "        go.Pie(\n",
    "            labels=df[column_name].value_counts().keys(),\n",
    "            values=df[column_name].value_counts().values,\n",
    "            textfont=dict(size=18),\n",
    "            textposition='auto',\n",
    "            showlegend=False,\n",
    "            name=column_name,\n",
    "            marker=dict(colors=colors[:len(df[column_name].value_counts())])\n",
    "        ),\n",
    "        row=1, col=2\n",
    "    )\n",
    "\n",
    "    fig.update_layout(\n",
    "        title={'text': column_name, 'y': 0.9, 'x': 0.5, 'xanchor': 'center', 'yanchor': 'top'},\n",
    "        template='plotly_white'\n",
    "    )\n",
    "    \n",
    "    iplot(fig)\n",
    "\n",
    "import plotly.graph_objects as go\n",
    "\n"
   ]
  },
  {
   "cell_type": "code",
   "execution_count": 9,
   "id": "83e8df31-69a9-4bc5-aab9-283cbb451def",
   "metadata": {},
   "outputs": [
    {
     "data": {
      "application/vnd.plotly.v1+json": {
       "config": {
        "linkText": "Export to plot.ly",
        "plotlyServerURL": "https://plot.ly",
        "showLink": false
       },
       "data": [
        {
         "marker": {
          "color": [
           "#1f77b4",
           "#ff7f0e",
           "#2ca02c",
           "#d62728",
           "#9467bd"
          ],
          "line": {
           "color": "#DBE6EC",
           "width": 1
          }
         },
         "name": "overall",
         "showlegend": false,
         "text": [
          "3922",
          "527",
          "244",
          "142",
          "80"
         ],
         "textfont": {
          "size": 14
         },
         "textposition": "auto",
         "type": "bar",
         "x": [
          "5",
          "4",
          "1",
          "3",
          "2"
         ],
         "xaxis": "x",
         "y": [
          3922,
          527,
          244,
          142,
          80
         ],
         "yaxis": "y"
        },
        {
         "domain": {
          "x": [
           0.55,
           1
          ],
          "y": [
           0,
           1
          ]
         },
         "labels": [
          5,
          4,
          1,
          3,
          2
         ],
         "marker": {
          "colors": [
           "#1f77b4",
           "#ff7f0e",
           "#2ca02c",
           "#d62728",
           "#9467bd"
          ]
         },
         "name": "overall",
         "showlegend": false,
         "textfont": {
          "size": 18
         },
         "textposition": "auto",
         "type": "pie",
         "values": [
          3922,
          527,
          244,
          142,
          80
         ]
        }
       ],
       "layout": {
        "annotations": [
         {
          "font": {
           "size": 16
          },
          "showarrow": false,
          "text": "Countplot",
          "x": 0.225,
          "xanchor": "center",
          "xref": "paper",
          "y": 1,
          "yanchor": "bottom",
          "yref": "paper"
         },
         {
          "font": {
           "size": 16
          },
          "showarrow": false,
          "text": "Percentage",
          "x": 0.775,
          "xanchor": "center",
          "xref": "paper",
          "y": 1,
          "yanchor": "bottom",
          "yref": "paper"
         }
        ],
        "autosize": true,
        "template": {
         "data": {
          "bar": [
           {
            "error_x": {
             "color": "#2a3f5f"
            },
            "error_y": {
             "color": "#2a3f5f"
            },
            "marker": {
             "line": {
              "color": "white",
              "width": 0.5
             },
             "pattern": {
              "fillmode": "overlay",
              "size": 10,
              "solidity": 0.2
             }
            },
            "type": "bar"
           }
          ],
          "barpolar": [
           {
            "marker": {
             "line": {
              "color": "white",
              "width": 0.5
             },
             "pattern": {
              "fillmode": "overlay",
              "size": 10,
              "solidity": 0.2
             }
            },
            "type": "barpolar"
           }
          ],
          "carpet": [
           {
            "aaxis": {
             "endlinecolor": "#2a3f5f",
             "gridcolor": "#C8D4E3",
             "linecolor": "#C8D4E3",
             "minorgridcolor": "#C8D4E3",
             "startlinecolor": "#2a3f5f"
            },
            "baxis": {
             "endlinecolor": "#2a3f5f",
             "gridcolor": "#C8D4E3",
             "linecolor": "#C8D4E3",
             "minorgridcolor": "#C8D4E3",
             "startlinecolor": "#2a3f5f"
            },
            "type": "carpet"
           }
          ],
          "choropleth": [
           {
            "colorbar": {
             "outlinewidth": 0,
             "ticks": ""
            },
            "type": "choropleth"
           }
          ],
          "contour": [
           {
            "colorbar": {
             "outlinewidth": 0,
             "ticks": ""
            },
            "colorscale": [
             [
              0,
              "#0d0887"
             ],
             [
              0.1111111111111111,
              "#46039f"
             ],
             [
              0.2222222222222222,
              "#7201a8"
             ],
             [
              0.3333333333333333,
              "#9c179e"
             ],
             [
              0.4444444444444444,
              "#bd3786"
             ],
             [
              0.5555555555555556,
              "#d8576b"
             ],
             [
              0.6666666666666666,
              "#ed7953"
             ],
             [
              0.7777777777777778,
              "#fb9f3a"
             ],
             [
              0.8888888888888888,
              "#fdca26"
             ],
             [
              1,
              "#f0f921"
             ]
            ],
            "type": "contour"
           }
          ],
          "contourcarpet": [
           {
            "colorbar": {
             "outlinewidth": 0,
             "ticks": ""
            },
            "type": "contourcarpet"
           }
          ],
          "heatmap": [
           {
            "colorbar": {
             "outlinewidth": 0,
             "ticks": ""
            },
            "colorscale": [
             [
              0,
              "#0d0887"
             ],
             [
              0.1111111111111111,
              "#46039f"
             ],
             [
              0.2222222222222222,
              "#7201a8"
             ],
             [
              0.3333333333333333,
              "#9c179e"
             ],
             [
              0.4444444444444444,
              "#bd3786"
             ],
             [
              0.5555555555555556,
              "#d8576b"
             ],
             [
              0.6666666666666666,
              "#ed7953"
             ],
             [
              0.7777777777777778,
              "#fb9f3a"
             ],
             [
              0.8888888888888888,
              "#fdca26"
             ],
             [
              1,
              "#f0f921"
             ]
            ],
            "type": "heatmap"
           }
          ],
          "heatmapgl": [
           {
            "colorbar": {
             "outlinewidth": 0,
             "ticks": ""
            },
            "colorscale": [
             [
              0,
              "#0d0887"
             ],
             [
              0.1111111111111111,
              "#46039f"
             ],
             [
              0.2222222222222222,
              "#7201a8"
             ],
             [
              0.3333333333333333,
              "#9c179e"
             ],
             [
              0.4444444444444444,
              "#bd3786"
             ],
             [
              0.5555555555555556,
              "#d8576b"
             ],
             [
              0.6666666666666666,
              "#ed7953"
             ],
             [
              0.7777777777777778,
              "#fb9f3a"
             ],
             [
              0.8888888888888888,
              "#fdca26"
             ],
             [
              1,
              "#f0f921"
             ]
            ],
            "type": "heatmapgl"
           }
          ],
          "histogram": [
           {
            "marker": {
             "pattern": {
              "fillmode": "overlay",
              "size": 10,
              "solidity": 0.2
             }
            },
            "type": "histogram"
           }
          ],
          "histogram2d": [
           {
            "colorbar": {
             "outlinewidth": 0,
             "ticks": ""
            },
            "colorscale": [
             [
              0,
              "#0d0887"
             ],
             [
              0.1111111111111111,
              "#46039f"
             ],
             [
              0.2222222222222222,
              "#7201a8"
             ],
             [
              0.3333333333333333,
              "#9c179e"
             ],
             [
              0.4444444444444444,
              "#bd3786"
             ],
             [
              0.5555555555555556,
              "#d8576b"
             ],
             [
              0.6666666666666666,
              "#ed7953"
             ],
             [
              0.7777777777777778,
              "#fb9f3a"
             ],
             [
              0.8888888888888888,
              "#fdca26"
             ],
             [
              1,
              "#f0f921"
             ]
            ],
            "type": "histogram2d"
           }
          ],
          "histogram2dcontour": [
           {
            "colorbar": {
             "outlinewidth": 0,
             "ticks": ""
            },
            "colorscale": [
             [
              0,
              "#0d0887"
             ],
             [
              0.1111111111111111,
              "#46039f"
             ],
             [
              0.2222222222222222,
              "#7201a8"
             ],
             [
              0.3333333333333333,
              "#9c179e"
             ],
             [
              0.4444444444444444,
              "#bd3786"
             ],
             [
              0.5555555555555556,
              "#d8576b"
             ],
             [
              0.6666666666666666,
              "#ed7953"
             ],
             [
              0.7777777777777778,
              "#fb9f3a"
             ],
             [
              0.8888888888888888,
              "#fdca26"
             ],
             [
              1,
              "#f0f921"
             ]
            ],
            "type": "histogram2dcontour"
           }
          ],
          "mesh3d": [
           {
            "colorbar": {
             "outlinewidth": 0,
             "ticks": ""
            },
            "type": "mesh3d"
           }
          ],
          "parcoords": [
           {
            "line": {
             "colorbar": {
              "outlinewidth": 0,
              "ticks": ""
             }
            },
            "type": "parcoords"
           }
          ],
          "pie": [
           {
            "automargin": true,
            "type": "pie"
           }
          ],
          "scatter": [
           {
            "fillpattern": {
             "fillmode": "overlay",
             "size": 10,
             "solidity": 0.2
            },
            "type": "scatter"
           }
          ],
          "scatter3d": [
           {
            "line": {
             "colorbar": {
              "outlinewidth": 0,
              "ticks": ""
             }
            },
            "marker": {
             "colorbar": {
              "outlinewidth": 0,
              "ticks": ""
             }
            },
            "type": "scatter3d"
           }
          ],
          "scattercarpet": [
           {
            "marker": {
             "colorbar": {
              "outlinewidth": 0,
              "ticks": ""
             }
            },
            "type": "scattercarpet"
           }
          ],
          "scattergeo": [
           {
            "marker": {
             "colorbar": {
              "outlinewidth": 0,
              "ticks": ""
             }
            },
            "type": "scattergeo"
           }
          ],
          "scattergl": [
           {
            "marker": {
             "colorbar": {
              "outlinewidth": 0,
              "ticks": ""
             }
            },
            "type": "scattergl"
           }
          ],
          "scattermapbox": [
           {
            "marker": {
             "colorbar": {
              "outlinewidth": 0,
              "ticks": ""
             }
            },
            "type": "scattermapbox"
           }
          ],
          "scatterpolar": [
           {
            "marker": {
             "colorbar": {
              "outlinewidth": 0,
              "ticks": ""
             }
            },
            "type": "scatterpolar"
           }
          ],
          "scatterpolargl": [
           {
            "marker": {
             "colorbar": {
              "outlinewidth": 0,
              "ticks": ""
             }
            },
            "type": "scatterpolargl"
           }
          ],
          "scatterternary": [
           {
            "marker": {
             "colorbar": {
              "outlinewidth": 0,
              "ticks": ""
             }
            },
            "type": "scatterternary"
           }
          ],
          "surface": [
           {
            "colorbar": {
             "outlinewidth": 0,
             "ticks": ""
            },
            "colorscale": [
             [
              0,
              "#0d0887"
             ],
             [
              0.1111111111111111,
              "#46039f"
             ],
             [
              0.2222222222222222,
              "#7201a8"
             ],
             [
              0.3333333333333333,
              "#9c179e"
             ],
             [
              0.4444444444444444,
              "#bd3786"
             ],
             [
              0.5555555555555556,
              "#d8576b"
             ],
             [
              0.6666666666666666,
              "#ed7953"
             ],
             [
              0.7777777777777778,
              "#fb9f3a"
             ],
             [
              0.8888888888888888,
              "#fdca26"
             ],
             [
              1,
              "#f0f921"
             ]
            ],
            "type": "surface"
           }
          ],
          "table": [
           {
            "cells": {
             "fill": {
              "color": "#EBF0F8"
             },
             "line": {
              "color": "white"
             }
            },
            "header": {
             "fill": {
              "color": "#C8D4E3"
             },
             "line": {
              "color": "white"
             }
            },
            "type": "table"
           }
          ]
         },
         "layout": {
          "annotationdefaults": {
           "arrowcolor": "#2a3f5f",
           "arrowhead": 0,
           "arrowwidth": 1
          },
          "autotypenumbers": "strict",
          "coloraxis": {
           "colorbar": {
            "outlinewidth": 0,
            "ticks": ""
           }
          },
          "colorscale": {
           "diverging": [
            [
             0,
             "#8e0152"
            ],
            [
             0.1,
             "#c51b7d"
            ],
            [
             0.2,
             "#de77ae"
            ],
            [
             0.3,
             "#f1b6da"
            ],
            [
             0.4,
             "#fde0ef"
            ],
            [
             0.5,
             "#f7f7f7"
            ],
            [
             0.6,
             "#e6f5d0"
            ],
            [
             0.7,
             "#b8e186"
            ],
            [
             0.8,
             "#7fbc41"
            ],
            [
             0.9,
             "#4d9221"
            ],
            [
             1,
             "#276419"
            ]
           ],
           "sequential": [
            [
             0,
             "#0d0887"
            ],
            [
             0.1111111111111111,
             "#46039f"
            ],
            [
             0.2222222222222222,
             "#7201a8"
            ],
            [
             0.3333333333333333,
             "#9c179e"
            ],
            [
             0.4444444444444444,
             "#bd3786"
            ],
            [
             0.5555555555555556,
             "#d8576b"
            ],
            [
             0.6666666666666666,
             "#ed7953"
            ],
            [
             0.7777777777777778,
             "#fb9f3a"
            ],
            [
             0.8888888888888888,
             "#fdca26"
            ],
            [
             1,
             "#f0f921"
            ]
           ],
           "sequentialminus": [
            [
             0,
             "#0d0887"
            ],
            [
             0.1111111111111111,
             "#46039f"
            ],
            [
             0.2222222222222222,
             "#7201a8"
            ],
            [
             0.3333333333333333,
             "#9c179e"
            ],
            [
             0.4444444444444444,
             "#bd3786"
            ],
            [
             0.5555555555555556,
             "#d8576b"
            ],
            [
             0.6666666666666666,
             "#ed7953"
            ],
            [
             0.7777777777777778,
             "#fb9f3a"
            ],
            [
             0.8888888888888888,
             "#fdca26"
            ],
            [
             1,
             "#f0f921"
            ]
           ]
          },
          "colorway": [
           "#636efa",
           "#EF553B",
           "#00cc96",
           "#ab63fa",
           "#FFA15A",
           "#19d3f3",
           "#FF6692",
           "#B6E880",
           "#FF97FF",
           "#FECB52"
          ],
          "font": {
           "color": "#2a3f5f"
          },
          "geo": {
           "bgcolor": "white",
           "lakecolor": "white",
           "landcolor": "white",
           "showlakes": true,
           "showland": true,
           "subunitcolor": "#C8D4E3"
          },
          "hoverlabel": {
           "align": "left"
          },
          "hovermode": "closest",
          "mapbox": {
           "style": "light"
          },
          "paper_bgcolor": "white",
          "plot_bgcolor": "white",
          "polar": {
           "angularaxis": {
            "gridcolor": "#EBF0F8",
            "linecolor": "#EBF0F8",
            "ticks": ""
           },
           "bgcolor": "white",
           "radialaxis": {
            "gridcolor": "#EBF0F8",
            "linecolor": "#EBF0F8",
            "ticks": ""
           }
          },
          "scene": {
           "xaxis": {
            "backgroundcolor": "white",
            "gridcolor": "#DFE8F3",
            "gridwidth": 2,
            "linecolor": "#EBF0F8",
            "showbackground": true,
            "ticks": "",
            "zerolinecolor": "#EBF0F8"
           },
           "yaxis": {
            "backgroundcolor": "white",
            "gridcolor": "#DFE8F3",
            "gridwidth": 2,
            "linecolor": "#EBF0F8",
            "showbackground": true,
            "ticks": "",
            "zerolinecolor": "#EBF0F8"
           },
           "zaxis": {
            "backgroundcolor": "white",
            "gridcolor": "#DFE8F3",
            "gridwidth": 2,
            "linecolor": "#EBF0F8",
            "showbackground": true,
            "ticks": "",
            "zerolinecolor": "#EBF0F8"
           }
          },
          "shapedefaults": {
           "line": {
            "color": "#2a3f5f"
           }
          },
          "ternary": {
           "aaxis": {
            "gridcolor": "#DFE8F3",
            "linecolor": "#A2B1C6",
            "ticks": ""
           },
           "baxis": {
            "gridcolor": "#DFE8F3",
            "linecolor": "#A2B1C6",
            "ticks": ""
           },
           "bgcolor": "white",
           "caxis": {
            "gridcolor": "#DFE8F3",
            "linecolor": "#A2B1C6",
            "ticks": ""
           }
          },
          "title": {
           "x": 0.05
          },
          "xaxis": {
           "automargin": true,
           "gridcolor": "#EBF0F8",
           "linecolor": "#EBF0F8",
           "ticks": "",
           "title": {
            "standoff": 15
           },
           "zerolinecolor": "#EBF0F8",
           "zerolinewidth": 2
          },
          "yaxis": {
           "automargin": true,
           "gridcolor": "#EBF0F8",
           "linecolor": "#EBF0F8",
           "ticks": "",
           "title": {
            "standoff": 15
           },
           "zerolinecolor": "#EBF0F8",
           "zerolinewidth": 2
          }
         }
        },
        "title": {
         "text": "overall",
         "x": 0.5,
         "xanchor": "center",
         "y": 0.9,
         "yanchor": "top"
        },
        "xaxis": {
         "anchor": "y",
         "autorange": true,
         "domain": [
          0,
          0.45
         ],
         "range": [
          -0.5,
          4.5
         ],
         "type": "category"
        },
        "yaxis": {
         "anchor": "x",
         "autorange": true,
         "domain": [
          0,
          1
         ],
         "range": [
          0,
          4128.421052631579
         ],
         "type": "linear"
        }
       }
      },
      "image/png": "[encoded data removed]",
      "text/html": [
       "<div>                            <div id=\"6aabf7bd-4f36-47a0-9822-b3d14dfe4496\" class=\"plotly-graph-div\" style=\"height:525px; width:100%;\"></div>            <script type=\"text/javascript\">                require([\"plotly\"], function(Plotly) {                    window.PLOTLYENV=window.PLOTLYENV || {};                                    if (document.getElementById(\"6aabf7bd-4f36-47a0-9822-b3d14dfe4496\")) {                    Plotly.newPlot(                        \"6aabf7bd-4f36-47a0-9822-b3d14dfe4496\",                        [{\"marker\":{\"color\":[\"#1f77b4\",\"#ff7f0e\",\"#2ca02c\",\"#d62728\",\"#9467bd\"],\"line\":{\"color\":\"#DBE6EC\",\"width\":1}},\"name\":\"overall\",\"showlegend\":false,\"text\":[\"3922\",\"527\",\"244\",\"142\",\"80\"],\"textfont\":{\"size\":14},\"textposition\":\"auto\",\"x\":[\"5\",\"4\",\"1\",\"3\",\"2\"],\"xaxis\":\"x\",\"y\":[3922,527,244,142,80],\"yaxis\":\"y\",\"type\":\"bar\"},{\"domain\":{\"x\":[0.55,1.0],\"y\":[0.0,1.0]},\"labels\":[5,4,1,3,2],\"marker\":{\"colors\":[\"#1f77b4\",\"#ff7f0e\",\"#2ca02c\",\"#d62728\",\"#9467bd\"]},\"name\":\"overall\",\"showlegend\":false,\"textfont\":{\"size\":18},\"textposition\":\"auto\",\"values\":[3922,527,244,142,80],\"type\":\"pie\"}],                        {\"annotations\":[{\"font\":{\"size\":16},\"showarrow\":false,\"text\":\"Countplot\",\"x\":0.225,\"xanchor\":\"center\",\"xref\":\"paper\",\"y\":1.0,\"yanchor\":\"bottom\",\"yref\":\"paper\"},{\"font\":{\"size\":16},\"showarrow\":false,\"text\":\"Percentage\",\"x\":0.775,\"xanchor\":\"center\",\"xref\":\"paper\",\"y\":1.0,\"yanchor\":\"bottom\",\"yref\":\"paper\"}],\"template\":{\"data\":{\"barpolar\":[{\"marker\":{\"line\":{\"color\":\"white\",\"width\":0.5},\"pattern\":{\"fillmode\":\"overlay\",\"size\":10,\"solidity\":0.2}},\"type\":\"barpolar\"}],\"bar\":[{\"error_x\":{\"color\":\"#2a3f5f\"},\"error_y\":{\"color\":\"#2a3f5f\"},\"marker\":{\"line\":{\"color\":\"white\",\"width\":0.5},\"pattern\":{\"fillmode\":\"overlay\",\"size\":10,\"solidity\":0.2}},\"type\":\"bar\"}],\"carpet\":[{\"aaxis\":{\"endlinecolor\":\"#2a3f5f\",\"gridcolor\":\"#C8D4E3\",\"linecolor\":\"#C8D4E3\",\"minorgridcolor\":\"#C8D4E3\",\"startlinecolor\":\"#2a3f5f\"},\"baxis\":{\"endlinecolor\":\"#2a3f5f\",\"gridcolor\":\"#C8D4E3\",\"linecolor\":\"#C8D4E3\",\"minorgridcolor\":\"#C8D4E3\",\"startlinecolor\":\"#2a3f5f\"},\"type\":\"carpet\"}],\"choropleth\":[{\"colorbar\":{\"outlinewidth\":0,\"ticks\":\"\"},\"type\":\"choropleth\"}],\"contourcarpet\":[{\"colorbar\":{\"outlinewidth\":0,\"ticks\":\"\"},\"type\":\"contourcarpet\"}],\"contour\":[{\"colorbar\":{\"outlinewidth\":0,\"ticks\":\"\"},\"colorscale\":[[0.0,\"#0d0887\"],[0.1111111111111111,\"#46039f\"],[0.2222222222222222,\"#7201a8\"],[0.3333333333333333,\"#9c179e\"],[0.4444444444444444,\"#bd3786\"],[0.5555555555555556,\"#d8576b\"],[0.6666666666666666,\"#ed7953\"],[0.7777777777777778,\"#fb9f3a\"],[0.8888888888888888,\"#fdca26\"],[1.0,\"#f0f921\"]],\"type\":\"contour\"}],\"heatmapgl\":[{\"colorbar\":{\"outlinewidth\":0,\"ticks\":\"\"},\"colorscale\":[[0.0,\"#0d0887\"],[0.1111111111111111,\"#46039f\"],[0.2222222222222222,\"#7201a8\"],[0.3333333333333333,\"#9c179e\"],[0.4444444444444444,\"#bd3786\"],[0.5555555555555556,\"#d8576b\"],[0.6666666666666666,\"#ed7953\"],[0.7777777777777778,\"#fb9f3a\"],[0.8888888888888888,\"#fdca26\"],[1.0,\"#f0f921\"]],\"type\":\"heatmapgl\"}],\"heatmap\":[{\"colorbar\":{\"outlinewidth\":0,\"ticks\":\"\"},\"colorscale\":[[0.0,\"#0d0887\"],[0.1111111111111111,\"#46039f\"],[0.2222222222222222,\"#7201a8\"],[0.3333333333333333,\"#9c179e\"],[0.4444444444444444,\"#bd3786\"],[0.5555555555555556,\"#d8576b\"],[0.6666666666666666,\"#ed7953\"],[0.7777777777777778,\"#fb9f3a\"],[0.8888888888888888,\"#fdca26\"],[1.0,\"#f0f921\"]],\"type\":\"heatmap\"}],\"histogram2dcontour\":[{\"colorbar\":{\"outlinewidth\":0,\"ticks\":\"\"},\"colorscale\":[[0.0,\"#0d0887\"],[0.1111111111111111,\"#46039f\"],[0.2222222222222222,\"#7201a8\"],[0.3333333333333333,\"#9c179e\"],[0.4444444444444444,\"#bd3786\"],[0.5555555555555556,\"#d8576b\"],[0.6666666666666666,\"#ed7953\"],[0.7777777777777778,\"#fb9f3a\"],[0.8888888888888888,\"#fdca26\"],[1.0,\"#f0f921\"]],\"type\":\"histogram2dcontour\"}],\"histogram2d\":[{\"colorbar\":{\"outlinewidth\":0,\"ticks\":\"\"},\"colorscale\":[[0.0,\"#0d0887\"],[0.1111111111111111,\"#46039f\"],[0.2222222222222222,\"#7201a8\"],[0.3333333333333333,\"#9c179e\"],[0.4444444444444444,\"#bd3786\"],[0.5555555555555556,\"#d8576b\"],[0.6666666666666666,\"#ed7953\"],[0.7777777777777778,\"#fb9f3a\"],[0.8888888888888888,\"#fdca26\"],[1.0,\"#f0f921\"]],\"type\":\"histogram2d\"}],\"histogram\":[{\"marker\":{\"pattern\":{\"fillmode\":\"overlay\",\"size\":10,\"solidity\":0.2}},\"type\":\"histogram\"}],\"mesh3d\":[{\"colorbar\":{\"outlinewidth\":0,\"ticks\":\"\"},\"type\":\"mesh3d\"}],\"parcoords\":[{\"line\":{\"colorbar\":{\"outlinewidth\":0,\"ticks\":\"\"}},\"type\":\"parcoords\"}],\"pie\":[{\"automargin\":true,\"type\":\"pie\"}],\"scatter3d\":[{\"line\":{\"colorbar\":{\"outlinewidth\":0,\"ticks\":\"\"}},\"marker\":{\"colorbar\":{\"outlinewidth\":0,\"ticks\":\"\"}},\"type\":\"scatter3d\"}],\"scattercarpet\":[{\"marker\":{\"colorbar\":{\"outlinewidth\":0,\"ticks\":\"\"}},\"type\":\"scattercarpet\"}],\"scattergeo\":[{\"marker\":{\"colorbar\":{\"outlinewidth\":0,\"ticks\":\"\"}},\"type\":\"scattergeo\"}],\"scattergl\":[{\"marker\":{\"colorbar\":{\"outlinewidth\":0,\"ticks\":\"\"}},\"type\":\"scattergl\"}],\"scattermapbox\":[{\"marker\":{\"colorbar\":{\"outlinewidth\":0,\"ticks\":\"\"}},\"type\":\"scattermapbox\"}],\"scatterpolargl\":[{\"marker\":{\"colorbar\":{\"outlinewidth\":0,\"ticks\":\"\"}},\"type\":\"scatterpolargl\"}],\"scatterpolar\":[{\"marker\":{\"colorbar\":{\"outlinewidth\":0,\"ticks\":\"\"}},\"type\":\"scatterpolar\"}],\"scatter\":[{\"fillpattern\":{\"fillmode\":\"overlay\",\"size\":10,\"solidity\":0.2},\"type\":\"scatter\"}],\"scatterternary\":[{\"marker\":{\"colorbar\":{\"outlinewidth\":0,\"ticks\":\"\"}},\"type\":\"scatterternary\"}],\"surface\":[{\"colorbar\":{\"outlinewidth\":0,\"ticks\":\"\"},\"colorscale\":[[0.0,\"#0d0887\"],[0.1111111111111111,\"#46039f\"],[0.2222222222222222,\"#7201a8\"],[0.3333333333333333,\"#9c179e\"],[0.4444444444444444,\"#bd3786\"],[0.5555555555555556,\"#d8576b\"],[0.6666666666666666,\"#ed7953\"],[0.7777777777777778,\"#fb9f3a\"],[0.8888888888888888,\"#fdca26\"],[1.0,\"#f0f921\"]],\"type\":\"surface\"}],\"table\":[{\"cells\":{\"fill\":{\"color\":\"#EBF0F8\"},\"line\":{\"color\":\"white\"}},\"header\":{\"fill\":{\"color\":\"#C8D4E3\"},\"line\":{\"color\":\"white\"}},\"type\":\"table\"}]},\"layout\":{\"annotationdefaults\":{\"arrowcolor\":\"#2a3f5f\",\"arrowhead\":0,\"arrowwidth\":1},\"autotypenumbers\":\"strict\",\"coloraxis\":{\"colorbar\":{\"outlinewidth\":0,\"ticks\":\"\"}},\"colorscale\":{\"diverging\":[[0,\"#8e0152\"],[0.1,\"#c51b7d\"],[0.2,\"#de77ae\"],[0.3,\"#f1b6da\"],[0.4,\"#fde0ef\"],[0.5,\"#f7f7f7\"],[0.6,\"#e6f5d0\"],[0.7,\"#b8e186\"],[0.8,\"#7fbc41\"],[0.9,\"#4d9221\"],[1,\"#276419\"]],\"sequential\":[[0.0,\"#0d0887\"],[0.1111111111111111,\"#46039f\"],[0.2222222222222222,\"#7201a8\"],[0.3333333333333333,\"#9c179e\"],[0.4444444444444444,\"#bd3786\"],[0.5555555555555556,\"#d8576b\"],[0.6666666666666666,\"#ed7953\"],[0.7777777777777778,\"#fb9f3a\"],[0.8888888888888888,\"#fdca26\"],[1.0,\"#f0f921\"]],\"sequentialminus\":[[0.0,\"#0d0887\"],[0.1111111111111111,\"#46039f\"],[0.2222222222222222,\"#7201a8\"],[0.3333333333333333,\"#9c179e\"],[0.4444444444444444,\"#bd3786\"],[0.5555555555555556,\"#d8576b\"],[0.6666666666666666,\"#ed7953\"],[0.7777777777777778,\"#fb9f3a\"],[0.8888888888888888,\"#fdca26\"],[1.0,\"#f0f921\"]]},\"colorway\":[\"#636efa\",\"#EF553B\",\"#00cc96\",\"#ab63fa\",\"#FFA15A\",\"#19d3f3\",\"#FF6692\",\"#B6E880\",\"#FF97FF\",\"#FECB52\"],\"font\":{\"color\":\"#2a3f5f\"},\"geo\":{\"bgcolor\":\"white\",\"lakecolor\":\"white\",\"landcolor\":\"white\",\"showlakes\":true,\"showland\":true,\"subunitcolor\":\"#C8D4E3\"},\"hoverlabel\":{\"align\":\"left\"},\"hovermode\":\"closest\",\"mapbox\":{\"style\":\"light\"},\"paper_bgcolor\":\"white\",\"plot_bgcolor\":\"white\",\"polar\":{\"angularaxis\":{\"gridcolor\":\"#EBF0F8\",\"linecolor\":\"#EBF0F8\",\"ticks\":\"\"},\"bgcolor\":\"white\",\"radialaxis\":{\"gridcolor\":\"#EBF0F8\",\"linecolor\":\"#EBF0F8\",\"ticks\":\"\"}},\"scene\":{\"xaxis\":{\"backgroundcolor\":\"white\",\"gridcolor\":\"#DFE8F3\",\"gridwidth\":2,\"linecolor\":\"#EBF0F8\",\"showbackground\":true,\"ticks\":\"\",\"zerolinecolor\":\"#EBF0F8\"},\"yaxis\":{\"backgroundcolor\":\"white\",\"gridcolor\":\"#DFE8F3\",\"gridwidth\":2,\"linecolor\":\"#EBF0F8\",\"showbackground\":true,\"ticks\":\"\",\"zerolinecolor\":\"#EBF0F8\"},\"zaxis\":{\"backgroundcolor\":\"white\",\"gridcolor\":\"#DFE8F3\",\"gridwidth\":2,\"linecolor\":\"#EBF0F8\",\"showbackground\":true,\"ticks\":\"\",\"zerolinecolor\":\"#EBF0F8\"}},\"shapedefaults\":{\"line\":{\"color\":\"#2a3f5f\"}},\"ternary\":{\"aaxis\":{\"gridcolor\":\"#DFE8F3\",\"linecolor\":\"#A2B1C6\",\"ticks\":\"\"},\"baxis\":{\"gridcolor\":\"#DFE8F3\",\"linecolor\":\"#A2B1C6\",\"ticks\":\"\"},\"bgcolor\":\"white\",\"caxis\":{\"gridcolor\":\"#DFE8F3\",\"linecolor\":\"#A2B1C6\",\"ticks\":\"\"}},\"title\":{\"x\":0.05},\"xaxis\":{\"automargin\":true,\"gridcolor\":\"#EBF0F8\",\"linecolor\":\"#EBF0F8\",\"ticks\":\"\",\"title\":{\"standoff\":15},\"zerolinecolor\":\"#EBF0F8\",\"zerolinewidth\":2},\"yaxis\":{\"automargin\":true,\"gridcolor\":\"#EBF0F8\",\"linecolor\":\"#EBF0F8\",\"ticks\":\"\",\"title\":{\"standoff\":15},\"zerolinecolor\":\"#EBF0F8\",\"zerolinewidth\":2}}},\"title\":{\"text\":\"overall\",\"x\":0.5,\"xanchor\":\"center\",\"y\":0.9,\"yanchor\":\"top\"},\"xaxis\":{\"anchor\":\"y\",\"domain\":[0.0,0.45]},\"yaxis\":{\"anchor\":\"x\",\"domain\":[0.0,1.0]}},                        {\"responsive\": true}                    ).then(function(){\n",
       "                            \n",
       "var gd = document.getElementById('6aabf7bd-4f36-47a0-9822-b3d14dfe4496');\n",
       "var x = new MutationObserver(function (mutations, observer) {{\n",
       "        var display = window.getComputedStyle(gd).display;\n",
       "        if (!display || display === 'none') {{\n",
       "            console.log([gd, 'removed!']);\n",
       "            Plotly.purge(gd);\n",
       "            observer.disconnect();\n",
       "        }}\n",
       "}});\n",
       "\n",
       "// Listen for the removal of the full notebook cells\n",
       "var notebookContainer = gd.closest('#notebook-container');\n",
       "if (notebookContainer) {{\n",
       "    x.observe(notebookContainer, {childList: true});\n",
       "}}\n",
       "\n",
       "// Listen for the clearing of the current output cell\n",
       "var outputEl = gd.closest('.output');\n",
       "if (outputEl) {{\n",
       "    x.observe(outputEl, {childList: true});\n",
       "}}\n",
       "\n",
       "                        })                };                });            </script>        </div>"
      ]
     },
     "metadata": {},
     "output_type": "display_data"
    }
   ],
   "source": [
    "categorical_variable_summary(df, 'overall')"
   ]
  },
  {
   "cell_type": "code",
   "execution_count": 10,
   "id": "6534d0f0-07d9-4d42-9fc6-b430a11ab241",
   "metadata": {},
   "outputs": [
    {
     "data": {
      "text/plain": [
       "2031    [[ UPDATE - 6/19/2014 ]]So my lovely wife boug...\n",
       "3449    I have tested dozens of SDHC and micro-SDHC ca...\n",
       "4212    NOTE:  please read the last update (scroll to ...\n",
       "317     If your card gets hot enough to be painful, it...\n",
       "4672    Sandisk announcement of the first 128GB micro ...\n",
       "Name: reviewText, dtype: object"
      ]
     },
     "execution_count": 10,
     "metadata": {},
     "output_type": "execute_result"
    }
   ],
   "source": [
    "df.reviewText.head()"
   ]
  },
  {
   "cell_type": "code",
   "execution_count": 11,
   "id": "8abc868c-8b68-44c9-9b7e-3c3291bbef89",
   "metadata": {},
   "outputs": [
    {
     "data": {
      "text/plain": [
       "'[[ UPDATE - 6/19/2014 ]]So my lovely wife bought me a Samsung Galaxy Tab 4 for Father\\'s Day and I\\'ve been loving it ever since.  Just as other with Samsung products, the Galaxy Tab 4 has the ability to add a microSD card to expand the memory on the device.  Since it\\'s been over a year, I decided to do some more research to see if SanDisk offered anything new.  As of 6/19/2014, their product lineup for microSD cards from worst to best (performance-wise) are the as follows:SanDiskSanDisk UltraSanDisk Ultra PLUSSanDisk ExtremeSanDisk Extreme PLUSSanDisk Extreme PRONow, the difference between all of these cards are simply the speed in which you can read/write data to the card.  Yes, the published rating of most all these cards (except the SanDisk regular) are Class 10/UHS-I but that\\'s just a rating... Actual real world performance does get better with each model, but with faster cards come more expensive prices.  Since Amazon doesn\\'t carry the Ultra PLUS model of microSD card, I had to do direct comparisons between the SanDisk Ultra ($34.27), Extreme ($57.95), and Extreme PLUS ($67.95).As mentioned in my earlier review, I purchased the SanDisk Ultra for my Galaxy S4.  My question was, did I want to pay over $20 more for a card that is faster than the one I already owned?  Or I could pay almost double to get SanDisk\\'s 2nd-most fastest microSD card.The Ultra works perfectly fine for my style of usage (storing/capturing pictures & HD video and movie playback) on my phone.  So in the end, I ended up just buying another SanDisk Ultra 64GB card.  I use my cell phone *more* than I do my tablet and if the card is good enough for my phone, it\\'s good enough for my tablet.  I don\\'t own a 4K HD camera or anything like that, so I honestly didn\\'t see a need to get one of the faster cards at this time.I am now a proud owner of 2 SanDisk Ultra cards and have absolutely 0 issues with it in my Samsung devices.[[ ORIGINAL REVIEW - 5/1/2013 ]]I haven\\'t had to buy a microSD card in a long time. The last time I bought one was for my cell phone over 2 years ago. But since my cellular contract was up, I knew I would have to get a newer card in addition to my new phone, the Samsung Galaxy S4. Reason for this is because I knew my small 16GB microSD card wasn\\'t going to cut it.Doing research on the Galaxy S4, I wanted to get the best card possible that had decent capacity (32 GB or greater). This led me to find that the Galaxy S4 supports the microSDXC Class 10 UHS-I card, which is the fastest possible given that class. Searching for that specifically on Amazon gave me results of only 3 vendors (as of April) that makes these microSDXC Class 10 UHS-1 cards. They are Sandisk (the majority), Samsung and Lexar. Nobody else makes these that are sold on Amazon.Seeing how SanDisk is a pretty good name out of the 3 (I\\'ve used them the most), I decided upon the SanDisk because Lexar was overpriced and the Samsung one was overpriced (as well as not eligible for Amazon Prime).But the scary thing is that when you filter by the SanDisk, you literally get DOZENS of options. All of them have different model numbers, different sizes, etc. Then there\\'s that confusion of what\\'s the difference between SDHC & SDXC?SDHC vs SDXC:SDHC stand for \"Secure Digital High Capacity\" and SDXC stands for \"Secure Digital eXtended Capacity\". Essentially these two cards are the same with the exception that SDHC only supports capcities up to 32GB and is formated with the FAT32 file system. The SDXC cards are formatted with the exFAT file system. If you use an SDXC card in a device, it must support that file system, otherwise it may not be recognizable and/or you have to reformat the card to FAT32.FAT32 vs exFAT:The differences between the two file systems means that FAT32 has a maximum file size of 4GB, limited by that file system. exFAT on the otherhand, supports file sizes up to 2TB (terabytes). The only thing you need to know here really is that it\\'s possible your device doesn\\'t support exFAT. If that\\'s the case, just reformat it to FAT32. REMEMBER FORMATTING ERASES ALL DATA!To clarify the model numbers, I I hopped over to the SanDisk official webpage. What I found there is that they offer two \"highspeed\" options for SanDisk cards. These are SanDisk Extreme Pro and SanDisk Ultra. SanDisk Extreme Pro is a line that supports read speeds up to 95MB/sec, however they are SDHC only. To make things worse, they are currently only available in 16GB & 8GB capacities. Since one of my requirements was to have a lot of storage, I ruled these out.The remaining devices listed on Amazon\\'s search were the SanDisk Ultra line. But here, confusion sets in because SanDisk separates these cards to two different devices. Cameras & mobile devices. Is there a real difference between the two or is this just a marketing stunt? Unfortunately I\\'m not sure but I do know the price difference between the two range from a couple cents to a few dollars. Since I wasn\\'t sure, I opted for the one specifically targeted for mobile devices (just in case there is some kind of compatibility issue). To find the exact model number, I would go to Sandisk\\'s webpage (sandisk.com) and compare their existing product lineup. From there, you get exact model numbers and you can then search Amazon for these model numbers. That is how I got mine (SDSDQUA-064G).As for speed tests, I haven\\'t run any specific testing, but copying 8 GB worth of data from my PC to the card literally took just a few minutes.One last note is that Amazon attaches additional characters to the end (for example SDSDQUA-064G-AFFP-A vs SDSDQUA-064G-U46A). The difference between the two is that the \"AFFP-A\" means \"Amazon Frustration Free Packaging\". Other than that, these are exactly the same.  If you\\'re wondering what I got (and want to use it in your Galaxy S4), I got the SDSDQUA-064G-u46A and it works like charm.'"
      ]
     },
     "execution_count": 11,
     "metadata": {},
     "output_type": "execute_result"
    }
   ],
   "source": [
    "review_example = df.reviewText[2031]\n",
    "review_example"
   ]
  },
  {
   "cell_type": "code",
   "execution_count": 12,
   "id": "964c5210-efff-441a-a5cc-b028a57b6d55",
   "metadata": {},
   "outputs": [
    {
     "data": {
      "text/plain": [
       "'UPDATESomylovelywifeboughtmeaSamsungGalaxyTabforFathersDayandIvebeenlovingiteversinceJustasotherwithSamsungproductstheGalaxyTabhastheabilitytoaddamicroSDcardtoexpandthememoryonthedeviceSinceitsbeenoverayearIdecidedtodosomemoreresearchtoseeifSanDiskofferedanythingnewAsoftheirproductlineupformicroSDcardsfromworsttobestperformancewisearetheasfollowsSanDiskSanDiskUltraSanDiskUltraPLUSSanDiskExtremeSanDiskExtremePLUSSanDiskExtremePRONowthedifferencebetweenallofthesecardsaresimplythespeedinwhichyoucanreadwritedatatothecardYesthepublishedratingofmostallthesecardsexcepttheSanDiskregularareClassUHSIbutthatsjustaratingActualrealworldperformancedoesgetbetterwitheachmodelbutwithfastercardscomemoreexpensivepricesSinceAmazondoesntcarrytheUltraPLUSmodelofmicroSDcardIhadtododirectcomparisonsbetweentheSanDiskUltraExtremeandExtremePLUSAsmentionedinmyearlierreviewIpurchasedtheSanDiskUltraformyGalaxySMyquestionwasdidIwanttopayovermoreforacardthatisfasterthantheoneIalreadyownedOrIcouldpayalmostdoubletogetSanDisksndmostfastestmicroSDcardTheUltraworksperfectlyfineformystyleofusagestoringcapturingpicturesHDvideoandmovieplaybackonmyphoneSointheendIendedupjustbuyinganotherSanDiskUltraGBcardIusemycellphonemorethanIdomytabletandifthecardisgoodenoughformyphoneitsgoodenoughformytabletIdontownaKHDcameraoranythinglikethatsoIhonestlydidntseeaneedtogetoneofthefastercardsatthistimeIamnowaproudownerofSanDiskUltracardsandhaveabsolutelyissueswithitinmySamsungdevicesORIGINALREVIEWIhaventhadtobuyamicroSDcardinalongtimeThelasttimeIboughtonewasformycellphoneoveryearsagoButsincemycellularcontractwasupIknewIwouldhavetogetanewercardinadditiontomynewphonetheSamsungGalaxySReasonforthisisbecauseIknewmysmallGBmicroSDcardwasntgoingtocutitDoingresearchontheGalaxySIwantedtogetthebestcardpossiblethathaddecentcapacityGBorgreaterThisledmetofindthattheGalaxySsupportsthemicroSDXCClassUHSIcardwhichisthefastestpossiblegiventhatclassSearchingforthatspecificallyonAmazongavemeresultsofonlyvendorsasofAprilthatmakesthesemicroSDXCClassUHScardsTheyareSandiskthemajoritySamsungandLexarNobodyelsemakesthesethataresoldonAmazonSeeinghowSanDiskisaprettygoodnameoutoftheIveusedthemthemostIdecidedupontheSanDiskbecauseLexarwasoverpricedandtheSamsungonewasoverpricedaswellasnoteligibleforAmazonPrimeButthescarythingisthatwhenyoufilterbytheSanDiskyouliterallygetDOZENSofoptionsAllofthemhavedifferentmodelnumbersdifferentsizesetcThentheresthatconfusionofwhatsthedifferencebetweenSDHCSDXCSDHCvsSDXCSDHCstandforSecureDigitalHighCapacityandSDXCstandsforSecureDigitaleXtendedCapacityEssentiallythesetwocardsarethesamewiththeexceptionthatSDHConlysupportscapcitiesuptoGBandisformatedwiththeFATfilesystemTheSDXCcardsareformattedwiththeexFATfilesystemIfyouuseanSDXCcardinadeviceitmustsupportthatfilesystemotherwiseitmaynotberecognizableandoryouhavetoreformatthecardtoFATFATvsexFATThedifferencesbetweenthetwofilesystemsmeansthatFAThasamaximumfilesizeofGBlimitedbythatfilesystemexFATontheotherhandsupportsfilesizesuptoTBterabytesTheonlythingyouneedtoknowherereallyisthatitspossibleyourdevicedoesntsupportexFATIfthatsthecasejustreformatittoFATREMEMBERFORMATTINGERASESALLDATAToclarifythemodelnumbersIIhoppedovertotheSanDiskofficialwebpageWhatIfoundthereisthattheyoffertwohighspeedoptionsforSanDiskcardsTheseareSanDiskExtremeProandSanDiskUltraSanDiskExtremeProisalinethatsupportsreadspeedsuptoMBsechowevertheyareSDHConlyTomakethingsworsetheyarecurrentlyonlyavailableinGBGBcapacitiesSinceoneofmyrequirementswastohavealotofstorageIruledtheseoutTheremainingdeviceslistedonAmazonssearchweretheSanDiskUltralineButhereconfusionsetsinbecauseSanDiskseparatesthesecardstotwodifferentdevicesCamerasmobiledevicesIstherearealdifferencebetweenthetwooristhisjustamarketingstuntUnfortunatelyImnotsurebutIdoknowthepricedifferencebetweenthetworangefromacouplecentstoafewdollarsSinceIwasntsureIoptedfortheonespecificallytargetedformobiledevicesjustincasethereissomekindofcompatibilityissueTofindtheexactmodelnumberIwouldgotoSandiskswebpagesandiskcomandcomparetheirexistingproductlineupFromthereyougetexactmodelnumbersandyoucanthensearchAmazonforthesemodelnumbersThatishowIgotmineSDSDQUAGAsforspeedtestsIhaventrunanyspecifictestingbutcopyingGBworthofdatafrommyPCtothecardliterallytookjustafewminutesOnelastnoteisthatAmazonattachesadditionalcharacterstotheendforexampleSDSDQUAGAFFPAvsSDSDQUAGUAThedifferencebetweenthetwoisthattheAFFPAmeansAmazonFrustrationFreePackagingOtherthanthattheseareexactlythesameIfyourewonderingwhatIgotandwanttouseitinyourGalaxySIgottheSDSDQUAGuAanditworkslikecharm'"
      ]
     },
     "execution_count": 12,
     "metadata": {},
     "output_type": "execute_result"
    }
   ],
   "source": [
    "review_example = re.sub(\"[^a-zA-Z]\",'', review_example)\n",
    "review_example"
   ]
  },
  {
   "cell_type": "code",
   "execution_count": 13,
   "id": "e5a7ba46-65a8-4f27-8677-37b39e81682a",
   "metadata": {
    "scrolled": true
   },
   "outputs": [
    {
     "data": {
      "text/plain": [
       "('u p d a t e s o m y l o v e l y w i f e b o u g h t m e a s a m s u n g g a l a x y t a b f o r f a t h e r s d a y a n d i v e b e e n l o v i n g i t e v e r s i n c e j u s t a s o t h e r w i t h s a m s u n g p r o d u c t s t h e g a l a x y t a b h a s t h e a b i l i t y t o a d d a m i c r o s d c a r d t o e x p a n d t h e m e m o r y o n t h e d e v i c e s i n c e i t s b e e n o v e r a y e a r i d e c i d e d t o d o s o m e m o r e r e s e a r c h t o s e e i f s a n d i s k o f f e r e d a n y t h i n g n e w a s o f t h e i r p r o d u c t l i n e u p f o r m i c r o s d c a r d s f r o m w o r s t t o b e s t p e r f o r m a n c e w i s e a r e t h e a s f o l l o w s s a n d i s k s a n d i s k u l t r a s a n d i s k u l t r a p l u s s a n d i s k e x t r e m e s a n d i s k e x t r e m e p l u s s a n d i s k e x t r e m e p r o n o w t h e d i f f e r e n c e b e t w e e n a l l o f t h e s e c a r d s a r e s i m p l y t h e s p e e d i n w h i c h y o u c a n r e a d w r i t e d a t a t o t h e c a r d y e s t h e p u b l i s h e d r a t i n g o f m o s t a l l t h e s e c a r d s e x c e p t t h e s a n d i s k r e g u l a r a r e c l a s s u h s i b u t t h a t s j u s t a r a t i n g a c t u a l r e a l w o r l d p e r f o r m a n c e d o e s g e t b e t t e r w i t h e a c h m o d e l b u t w i t h f a s t e r c a r d s c o m e m o r e e x p e n s i v e p r i c e s s i n c e a m a z o n d o e s n t c a r r y t h e u l t r a p l u s m o d e l o f m i c r o s d c a r d i h a d t o d o d i r e c t c o m p a r i s o n s b e t w e e n t h e s a n d i s k u l t r a e x t r e m e a n d e x t r e m e p l u s a s m e n t i o n e d i n m y e a r l i e r r e v i e w i p u r c h a s e d t h e s a n d i s k u l t r a f o r m y g a l a x y s m y q u e s t i o n w a s d i d i w a n t t o p a y o v e r m o r e f o r a c a r d t h a t i s f a s t e r t h a n t h e o n e i a l r e a d y o w n e d o r i c o u l d p a y a l m o s t d o u b l e t o g e t s a n d i s k s n d m o s t f a s t e s t m i c r o s d c a r d t h e u l t r a w o r k s p e r f e c t l y f i n e f o r m y s t y l e o f u s a g e s t o r i n g c a p t u r i n g p i c t u r e s h d v i d e o a n d m o v i e p l a y b a c k o n m y p h o n e s o i n t h e e n d i e n d e d u p j u s t b u y i n g a n o t h e r s a n d i s k u l t r a g b c a r d i u s e m y c e l l p h o n e m o r e t h a n i d o m y t a b l e t a n d i f t h e c a r d i s g o o d e n o u g h f o r m y p h o n e i t s g o o d e n o u g h f o r m y t a b l e t i d o n t o w n a k h d c a m e r a o r a n y t h i n g l i k e t h a t s o i h o n e s t l y d i d n t s e e a n e e d t o g e t o n e o f t h e f a s t e r c a r d s a t t h i s t i m e i a m n o w a p r o u d o w n e r o f s a n d i s k u l t r a c a r d s a n d h a v e a b s o l u t e l y i s s u e s w i t h i t i n m y s a m s u n g d e v i c e s o r i g i n a l r e v i e w i h a v e n t h a d t o b u y a m i c r o s d c a r d i n a l o n g t i m e t h e l a s t t i m e i b o u g h t o n e w a s f o r m y c e l l p h o n e o v e r y e a r s a g o b u t s i n c e m y c e l l u l a r c o n t r a c t w a s u p i k n e w i w o u l d h a v e t o g e t a n e w e r c a r d i n a d d i t i o n t o m y n e w p h o n e t h e s a m s u n g g a l a x y s r e a s o n f o r t h i s i s b e c a u s e i k n e w m y s m a l l g b m i c r o s d c a r d w a s n t g o i n g t o c u t i t d o i n g r e s e a r c h o n t h e g a l a x y s i w a n t e d t o g e t t h e b e s t c a r d p o s s i b l e t h a t h a d d e c e n t c a p a c i t y g b o r g r e a t e r t h i s l e d m e t o f i n d t h a t t h e g a l a x y s s u p p o r t s t h e m i c r o s d x c c l a s s u h s i c a r d w h i c h i s t h e f a s t e s t p o s s i b l e g i v e n t h a t c l a s s s e a r c h i n g f o r t h a t s p e c i f i c a l l y o n a m a z o n g a v e m e r e s u l t s o f o n l y v e n d o r s a s o f a p r i l t h a t m a k e s t h e s e m i c r o s d x c c l a s s u h s c a r d s t h e y a r e s a n d i s k t h e m a j o r i t y s a m s u n g a n d l e x a r n o b o d y e l s e m a k e s t h e s e t h a t a r e s o l d o n a m a z o n s e e i n g h o w s a n d i s k i s a p r e t t y g o o d n a m e o u t o f t h e i v e u s e d t h e m t h e m o s t i d e c i d e d u p o n t h e s a n d i s k b e c a u s e l e x a r w a s o v e r p r i c e d a n d t h e s a m s u n g o n e w a s o v e r p r i c e d a s w e l l a s n o t e l i g i b l e f o r a m a z o n p r i m e b u t t h e s c a r y t h i n g i s t h a t w h e n y o u f i l t e r b y t h e s a n d i s k y o u l i t e r a l l y g e t d o z e n s o f o p t i o n s a l l o f t h e m h a v e d i f f e r e n t m o d e l n u m b e r s d i f f e r e n t s i z e s e t c t h e n t h e r e s t h a t c o n f u s i o n o f w h a t s t h e d i f f e r e n c e b e t w e e n s d h c s d x c s d h c v s s d x c s d h c s t a n d f o r s e c u r e d i g i t a l h i g h c a p a c i t y a n d s d x c s t a n d s f o r s e c u r e d i g i t a l e x t e n d e d c a p a c i t y e s s e n t i a l l y t h e s e t w o c a r d s a r e t h e s a m e w i t h t h e e x c e p t i o n t h a t s d h c o n l y s u p p o r t s c a p c i t i e s u p t o g b a n d i s f o r m a t e d w i t h t h e f a t f i l e s y s t e m t h e s d x c c a r d s a r e f o r m a t t e d w i t h t h e e x f a t f i l e s y s t e m i f y o u u s e a n s d x c c a r d i n a d e v i c e i t m u s t s u p p o r t t h a t f i l e s y s t e m o t h e r w i s e i t m a y n o t b e r e c o g n i z a b l e a n d o r y o u h a v e t o r e f o r m a t t h e c a r d t o f a t f a t v s e x f a t t h e d i f f e r e n c e s b e t w e e n t h e t w o f i l e s y s t e m s m e a n s t h a t f a t h a s a m a x i m u m f i l e s i z e o f g b l i m i t e d b y t h a t f i l e s y s t e m e x f a t o n t h e o t h e r h a n d s u p p o r t s f i l e s i z e s u p t o t b t e r a b y t e s t h e o n l y t h i n g y o u n e e d t o k n o w h e r e r e a l l y i s t h a t i t s p o s s i b l e y o u r d e v i c e d o e s n t s u p p o r t e x f a t i f t h a t s t h e c a s e j u s t r e f o r m a t i t t o f a t r e m e m b e r f o r m a t t i n g e r a s e s a l l d a t a t o c l a r i f y t h e m o d e l n u m b e r s i i h o p p e d o v e r t o t h e s a n d i s k o f f i c i a l w e b p a g e w h a t i f o u n d t h e r e i s t h a t t h e y o f f e r t w o h i g h s p e e d o p t i o n s f o r s a n d i s k c a r d s t h e s e a r e s a n d i s k e x t r e m e p r o a n d s a n d i s k u l t r a s a n d i s k e x t r e m e p r o i s a l i n e t h a t s u p p o r t s r e a d s p e e d s u p t o m b s e c h o w e v e r t h e y a r e s d h c o n l y t o m a k e t h i n g s w o r s e t h e y a r e c u r r e n t l y o n l y a v a i l a b l e i n g b g b c a p a c i t i e s s i n c e o n e o f m y r e q u i r e m e n t s w a s t o h a v e a l o t o f s t o r a g e i r u l e d t h e s e o u t t h e r e m a i n i n g d e v i c e s l i s t e d o n a m a z o n s s e a r c h w e r e t h e s a n d i s k u l t r a l i n e b u t h e r e c o n f u s i o n s e t s i n b e c a u s e s a n d i s k s e p a r a t e s t h e s e c a r d s t o t w o d i f f e r e n t d e v i c e s c a m e r a s m o b i l e d e v i c e s i s t h e r e a r e a l d i f f e r e n c e b e t w e e n t h e t w o o r i s t h i s j u s t a m a r k e t i n g s t u n t u n f o r t u n a t e l y i m n o t s u r e b u t i d o k n o w t h e p r i c e d i f f e r e n c e b e t w e e n t h e t w o r a n g e f r o m a c o u p l e c e n t s t o a f e w d o l l a r s s i n c e i w a s n t s u r e i o p t e d f o r t h e o n e s p e c i f i c a l l y t a r g e t e d f o r m o b i l e d e v i c e s j u s t i n c a s e t h e r e i s s o m e k i n d o f c o m p a t i b i l i t y i s s u e t o f i n d t h e e x a c t m o d e l n u m b e r i w o u l d g o t o s a n d i s k s w e b p a g e s a n d i s k c o m a n d c o m p a r e t h e i r e x i s t i n g p r o d u c t l i n e u p f r o m t h e r e y o u g e t e x a c t m o d e l n u m b e r s a n d y o u c a n t h e n s e a r c h a m a z o n f o r t h e s e m o d e l n u m b e r s t h a t i s h o w i g o t m i n e s d s d q u a g a s f o r s p e e d t e s t s i h a v e n t r u n a n y s p e c i f i c t e s t i n g b u t c o p y i n g g b w o r t h o f d a t a f r o m m y p c t o t h e c a r d l i t e r a l l y t o o k j u s t a f e w m i n u t e s o n e l a s t n o t e i s t h a t a m a z o n a t t a c h e s a d d i t i o n a l c h a r a c t e r s t o t h e e n d f o r e x a m p l e s d s d q u a g a f f p a v s s d s d q u a g u a t h e d i f f e r e n c e b e t w e e n t h e t w o i s t h a t t h e a f f p a m e a n s a m a z o n f r u s t r a t i o n f r e e p a c k a g i n g o t h e r t h a n t h a t t h e s e a r e e x a c t l y t h e s a m e i f y o u r e w o n d e r i n g w h a t i g o t a n d w a n t t o u s e i t i n y o u r g a l a x y s i g o t t h e s d s d q u a g u a a n d i t w o r k s l i k e c h a r m',\n",
       " ['u',\n",
       "  'p',\n",
       "  'd',\n",
       "  'a',\n",
       "  't',\n",
       "  'e',\n",
       "  's',\n",
       "  'o',\n",
       "  'm',\n",
       "  'y',\n",
       "  'l',\n",
       "  'o',\n",
       "  'v',\n",
       "  'e',\n",
       "  'l',\n",
       "  'y',\n",
       "  'w',\n",
       "  'i',\n",
       "  'f',\n",
       "  'e',\n",
       "  'b',\n",
       "  'o',\n",
       "  'u',\n",
       "  'g',\n",
       "  'h',\n",
       "  't',\n",
       "  'm',\n",
       "  'e',\n",
       "  'a',\n",
       "  's',\n",
       "  'a',\n",
       "  'm',\n",
       "  's',\n",
       "  'u',\n",
       "  'n',\n",
       "  'g',\n",
       "  'g',\n",
       "  'a',\n",
       "  'l',\n",
       "  'a',\n",
       "  'x',\n",
       "  'y',\n",
       "  't',\n",
       "  'a',\n",
       "  'b',\n",
       "  'f',\n",
       "  'o',\n",
       "  'r',\n",
       "  'f',\n",
       "  'a',\n",
       "  't',\n",
       "  'h',\n",
       "  'e',\n",
       "  'r',\n",
       "  's',\n",
       "  'd',\n",
       "  'a',\n",
       "  'y',\n",
       "  'a',\n",
       "  'n',\n",
       "  'd',\n",
       "  'i',\n",
       "  'v',\n",
       "  'e',\n",
       "  'b',\n",
       "  'e',\n",
       "  'e',\n",
       "  'n',\n",
       "  'l',\n",
       "  'o',\n",
       "  'v',\n",
       "  'i',\n",
       "  'n',\n",
       "  'g',\n",
       "  'i',\n",
       "  't',\n",
       "  'e',\n",
       "  'v',\n",
       "  'e',\n",
       "  'r',\n",
       "  's',\n",
       "  'i',\n",
       "  'n',\n",
       "  'c',\n",
       "  'e',\n",
       "  'j',\n",
       "  'u',\n",
       "  's',\n",
       "  't',\n",
       "  'a',\n",
       "  's',\n",
       "  'o',\n",
       "  't',\n",
       "  'h',\n",
       "  'e',\n",
       "  'r',\n",
       "  'w',\n",
       "  'i',\n",
       "  't',\n",
       "  'h',\n",
       "  's',\n",
       "  'a',\n",
       "  'm',\n",
       "  's',\n",
       "  'u',\n",
       "  'n',\n",
       "  'g',\n",
       "  'p',\n",
       "  'r',\n",
       "  'o',\n",
       "  'd',\n",
       "  'u',\n",
       "  'c',\n",
       "  't',\n",
       "  's',\n",
       "  't',\n",
       "  'h',\n",
       "  'e',\n",
       "  'g',\n",
       "  'a',\n",
       "  'l',\n",
       "  'a',\n",
       "  'x',\n",
       "  'y',\n",
       "  't',\n",
       "  'a',\n",
       "  'b',\n",
       "  'h',\n",
       "  'a',\n",
       "  's',\n",
       "  't',\n",
       "  'h',\n",
       "  'e',\n",
       "  'a',\n",
       "  'b',\n",
       "  'i',\n",
       "  'l',\n",
       "  'i',\n",
       "  't',\n",
       "  'y',\n",
       "  't',\n",
       "  'o',\n",
       "  'a',\n",
       "  'd',\n",
       "  'd',\n",
       "  'a',\n",
       "  'm',\n",
       "  'i',\n",
       "  'c',\n",
       "  'r',\n",
       "  'o',\n",
       "  's',\n",
       "  'd',\n",
       "  'c',\n",
       "  'a',\n",
       "  'r',\n",
       "  'd',\n",
       "  't',\n",
       "  'o',\n",
       "  'e',\n",
       "  'x',\n",
       "  'p',\n",
       "  'a',\n",
       "  'n',\n",
       "  'd',\n",
       "  't',\n",
       "  'h',\n",
       "  'e',\n",
       "  'm',\n",
       "  'e',\n",
       "  'm',\n",
       "  'o',\n",
       "  'r',\n",
       "  'y',\n",
       "  'o',\n",
       "  'n',\n",
       "  't',\n",
       "  'h',\n",
       "  'e',\n",
       "  'd',\n",
       "  'e',\n",
       "  'v',\n",
       "  'i',\n",
       "  'c',\n",
       "  'e',\n",
       "  's',\n",
       "  'i',\n",
       "  'n',\n",
       "  'c',\n",
       "  'e',\n",
       "  'i',\n",
       "  't',\n",
       "  's',\n",
       "  'b',\n",
       "  'e',\n",
       "  'e',\n",
       "  'n',\n",
       "  'o',\n",
       "  'v',\n",
       "  'e',\n",
       "  'r',\n",
       "  'a',\n",
       "  'y',\n",
       "  'e',\n",
       "  'a',\n",
       "  'r',\n",
       "  'i',\n",
       "  'd',\n",
       "  'e',\n",
       "  'c',\n",
       "  'i',\n",
       "  'd',\n",
       "  'e',\n",
       "  'd',\n",
       "  't',\n",
       "  'o',\n",
       "  'd',\n",
       "  'o',\n",
       "  's',\n",
       "  'o',\n",
       "  'm',\n",
       "  'e',\n",
       "  'm',\n",
       "  'o',\n",
       "  'r',\n",
       "  'e',\n",
       "  'r',\n",
       "  'e',\n",
       "  's',\n",
       "  'e',\n",
       "  'a',\n",
       "  'r',\n",
       "  'c',\n",
       "  'h',\n",
       "  't',\n",
       "  'o',\n",
       "  's',\n",
       "  'e',\n",
       "  'e',\n",
       "  'i',\n",
       "  'f',\n",
       "  's',\n",
       "  'a',\n",
       "  'n',\n",
       "  'd',\n",
       "  'i',\n",
       "  's',\n",
       "  'k',\n",
       "  'o',\n",
       "  'f',\n",
       "  'f',\n",
       "  'e',\n",
       "  'r',\n",
       "  'e',\n",
       "  'd',\n",
       "  'a',\n",
       "  'n',\n",
       "  'y',\n",
       "  't',\n",
       "  'h',\n",
       "  'i',\n",
       "  'n',\n",
       "  'g',\n",
       "  'n',\n",
       "  'e',\n",
       "  'w',\n",
       "  'a',\n",
       "  's',\n",
       "  'o',\n",
       "  'f',\n",
       "  't',\n",
       "  'h',\n",
       "  'e',\n",
       "  'i',\n",
       "  'r',\n",
       "  'p',\n",
       "  'r',\n",
       "  'o',\n",
       "  'd',\n",
       "  'u',\n",
       "  'c',\n",
       "  't',\n",
       "  'l',\n",
       "  'i',\n",
       "  'n',\n",
       "  'e',\n",
       "  'u',\n",
       "  'p',\n",
       "  'f',\n",
       "  'o',\n",
       "  'r',\n",
       "  'm',\n",
       "  'i',\n",
       "  'c',\n",
       "  'r',\n",
       "  'o',\n",
       "  's',\n",
       "  'd',\n",
       "  'c',\n",
       "  'a',\n",
       "  'r',\n",
       "  'd',\n",
       "  's',\n",
       "  'f',\n",
       "  'r',\n",
       "  'o',\n",
       "  'm',\n",
       "  'w',\n",
       "  'o',\n",
       "  'r',\n",
       "  's',\n",
       "  't',\n",
       "  't',\n",
       "  'o',\n",
       "  'b',\n",
       "  'e',\n",
       "  's',\n",
       "  't',\n",
       "  'p',\n",
       "  'e',\n",
       "  'r',\n",
       "  'f',\n",
       "  'o',\n",
       "  'r',\n",
       "  'm',\n",
       "  'a',\n",
       "  'n',\n",
       "  'c',\n",
       "  'e',\n",
       "  'w',\n",
       "  'i',\n",
       "  's',\n",
       "  'e',\n",
       "  'a',\n",
       "  'r',\n",
       "  'e',\n",
       "  't',\n",
       "  'h',\n",
       "  'e',\n",
       "  'a',\n",
       "  's',\n",
       "  'f',\n",
       "  'o',\n",
       "  'l',\n",
       "  'l',\n",
       "  'o',\n",
       "  'w',\n",
       "  's',\n",
       "  's',\n",
       "  'a',\n",
       "  'n',\n",
       "  'd',\n",
       "  'i',\n",
       "  's',\n",
       "  'k',\n",
       "  's',\n",
       "  'a',\n",
       "  'n',\n",
       "  'd',\n",
       "  'i',\n",
       "  's',\n",
       "  'k',\n",
       "  'u',\n",
       "  'l',\n",
       "  't',\n",
       "  'r',\n",
       "  'a',\n",
       "  's',\n",
       "  'a',\n",
       "  'n',\n",
       "  'd',\n",
       "  'i',\n",
       "  's',\n",
       "  'k',\n",
       "  'u',\n",
       "  'l',\n",
       "  't',\n",
       "  'r',\n",
       "  'a',\n",
       "  'p',\n",
       "  'l',\n",
       "  'u',\n",
       "  's',\n",
       "  's',\n",
       "  'a',\n",
       "  'n',\n",
       "  'd',\n",
       "  'i',\n",
       "  's',\n",
       "  'k',\n",
       "  'e',\n",
       "  'x',\n",
       "  't',\n",
       "  'r',\n",
       "  'e',\n",
       "  'm',\n",
       "  'e',\n",
       "  's',\n",
       "  'a',\n",
       "  'n',\n",
       "  'd',\n",
       "  'i',\n",
       "  's',\n",
       "  'k',\n",
       "  'e',\n",
       "  'x',\n",
       "  't',\n",
       "  'r',\n",
       "  'e',\n",
       "  'm',\n",
       "  'e',\n",
       "  'p',\n",
       "  'l',\n",
       "  'u',\n",
       "  's',\n",
       "  's',\n",
       "  'a',\n",
       "  'n',\n",
       "  'd',\n",
       "  'i',\n",
       "  's',\n",
       "  'k',\n",
       "  'e',\n",
       "  'x',\n",
       "  't',\n",
       "  'r',\n",
       "  'e',\n",
       "  'm',\n",
       "  'e',\n",
       "  'p',\n",
       "  'r',\n",
       "  'o',\n",
       "  'n',\n",
       "  'o',\n",
       "  'w',\n",
       "  't',\n",
       "  'h',\n",
       "  'e',\n",
       "  'd',\n",
       "  'i',\n",
       "  'f',\n",
       "  'f',\n",
       "  'e',\n",
       "  'r',\n",
       "  'e',\n",
       "  'n',\n",
       "  'c',\n",
       "  'e',\n",
       "  'b',\n",
       "  'e',\n",
       "  't',\n",
       "  'w',\n",
       "  'e',\n",
       "  'e',\n",
       "  'n',\n",
       "  'a',\n",
       "  'l',\n",
       "  'l',\n",
       "  'o',\n",
       "  'f',\n",
       "  't',\n",
       "  'h',\n",
       "  'e',\n",
       "  's',\n",
       "  'e',\n",
       "  'c',\n",
       "  'a',\n",
       "  'r',\n",
       "  'd',\n",
       "  's',\n",
       "  'a',\n",
       "  'r',\n",
       "  'e',\n",
       "  's',\n",
       "  'i',\n",
       "  'm',\n",
       "  'p',\n",
       "  'l',\n",
       "  'y',\n",
       "  't',\n",
       "  'h',\n",
       "  'e',\n",
       "  's',\n",
       "  'p',\n",
       "  'e',\n",
       "  'e',\n",
       "  'd',\n",
       "  'i',\n",
       "  'n',\n",
       "  'w',\n",
       "  'h',\n",
       "  'i',\n",
       "  'c',\n",
       "  'h',\n",
       "  'y',\n",
       "  'o',\n",
       "  'u',\n",
       "  'c',\n",
       "  'a',\n",
       "  'n',\n",
       "  'r',\n",
       "  'e',\n",
       "  'a',\n",
       "  'd',\n",
       "  'w',\n",
       "  'r',\n",
       "  'i',\n",
       "  't',\n",
       "  'e',\n",
       "  'd',\n",
       "  'a',\n",
       "  't',\n",
       "  'a',\n",
       "  't',\n",
       "  'o',\n",
       "  't',\n",
       "  'h',\n",
       "  'e',\n",
       "  'c',\n",
       "  'a',\n",
       "  'r',\n",
       "  'd',\n",
       "  'y',\n",
       "  'e',\n",
       "  's',\n",
       "  't',\n",
       "  'h',\n",
       "  'e',\n",
       "  'p',\n",
       "  'u',\n",
       "  'b',\n",
       "  'l',\n",
       "  'i',\n",
       "  's',\n",
       "  'h',\n",
       "  'e',\n",
       "  'd',\n",
       "  'r',\n",
       "  'a',\n",
       "  't',\n",
       "  'i',\n",
       "  'n',\n",
       "  'g',\n",
       "  'o',\n",
       "  'f',\n",
       "  'm',\n",
       "  'o',\n",
       "  's',\n",
       "  't',\n",
       "  'a',\n",
       "  'l',\n",
       "  'l',\n",
       "  't',\n",
       "  'h',\n",
       "  'e',\n",
       "  's',\n",
       "  'e',\n",
       "  'c',\n",
       "  'a',\n",
       "  'r',\n",
       "  'd',\n",
       "  's',\n",
       "  'e',\n",
       "  'x',\n",
       "  'c',\n",
       "  'e',\n",
       "  'p',\n",
       "  't',\n",
       "  't',\n",
       "  'h',\n",
       "  'e',\n",
       "  's',\n",
       "  'a',\n",
       "  'n',\n",
       "  'd',\n",
       "  'i',\n",
       "  's',\n",
       "  'k',\n",
       "  'r',\n",
       "  'e',\n",
       "  'g',\n",
       "  'u',\n",
       "  'l',\n",
       "  'a',\n",
       "  'r',\n",
       "  'a',\n",
       "  'r',\n",
       "  'e',\n",
       "  'c',\n",
       "  'l',\n",
       "  'a',\n",
       "  's',\n",
       "  's',\n",
       "  'u',\n",
       "  'h',\n",
       "  's',\n",
       "  'i',\n",
       "  'b',\n",
       "  'u',\n",
       "  't',\n",
       "  't',\n",
       "  'h',\n",
       "  'a',\n",
       "  't',\n",
       "  's',\n",
       "  'j',\n",
       "  'u',\n",
       "  's',\n",
       "  't',\n",
       "  'a',\n",
       "  'r',\n",
       "  'a',\n",
       "  't',\n",
       "  'i',\n",
       "  'n',\n",
       "  'g',\n",
       "  'a',\n",
       "  'c',\n",
       "  't',\n",
       "  'u',\n",
       "  'a',\n",
       "  'l',\n",
       "  'r',\n",
       "  'e',\n",
       "  'a',\n",
       "  'l',\n",
       "  'w',\n",
       "  'o',\n",
       "  'r',\n",
       "  'l',\n",
       "  'd',\n",
       "  'p',\n",
       "  'e',\n",
       "  'r',\n",
       "  'f',\n",
       "  'o',\n",
       "  'r',\n",
       "  'm',\n",
       "  'a',\n",
       "  'n',\n",
       "  'c',\n",
       "  'e',\n",
       "  'd',\n",
       "  'o',\n",
       "  'e',\n",
       "  's',\n",
       "  'g',\n",
       "  'e',\n",
       "  't',\n",
       "  'b',\n",
       "  'e',\n",
       "  't',\n",
       "  't',\n",
       "  'e',\n",
       "  'r',\n",
       "  'w',\n",
       "  'i',\n",
       "  't',\n",
       "  'h',\n",
       "  'e',\n",
       "  'a',\n",
       "  'c',\n",
       "  'h',\n",
       "  'm',\n",
       "  'o',\n",
       "  'd',\n",
       "  'e',\n",
       "  'l',\n",
       "  'b',\n",
       "  'u',\n",
       "  't',\n",
       "  'w',\n",
       "  'i',\n",
       "  't',\n",
       "  'h',\n",
       "  'f',\n",
       "  'a',\n",
       "  's',\n",
       "  't',\n",
       "  'e',\n",
       "  'r',\n",
       "  'c',\n",
       "  'a',\n",
       "  'r',\n",
       "  'd',\n",
       "  's',\n",
       "  'c',\n",
       "  'o',\n",
       "  'm',\n",
       "  'e',\n",
       "  'm',\n",
       "  'o',\n",
       "  'r',\n",
       "  'e',\n",
       "  'e',\n",
       "  'x',\n",
       "  'p',\n",
       "  'e',\n",
       "  'n',\n",
       "  's',\n",
       "  'i',\n",
       "  'v',\n",
       "  'e',\n",
       "  'p',\n",
       "  'r',\n",
       "  'i',\n",
       "  'c',\n",
       "  'e',\n",
       "  's',\n",
       "  's',\n",
       "  'i',\n",
       "  'n',\n",
       "  'c',\n",
       "  'e',\n",
       "  'a',\n",
       "  'm',\n",
       "  'a',\n",
       "  'z',\n",
       "  'o',\n",
       "  'n',\n",
       "  'd',\n",
       "  'o',\n",
       "  'e',\n",
       "  's',\n",
       "  'n',\n",
       "  't',\n",
       "  'c',\n",
       "  'a',\n",
       "  'r',\n",
       "  'r',\n",
       "  'y',\n",
       "  't',\n",
       "  'h',\n",
       "  'e',\n",
       "  'u',\n",
       "  'l',\n",
       "  't',\n",
       "  'r',\n",
       "  'a',\n",
       "  'p',\n",
       "  'l',\n",
       "  'u',\n",
       "  's',\n",
       "  'm',\n",
       "  'o',\n",
       "  'd',\n",
       "  'e',\n",
       "  'l',\n",
       "  'o',\n",
       "  'f',\n",
       "  'm',\n",
       "  'i',\n",
       "  'c',\n",
       "  'r',\n",
       "  'o',\n",
       "  's',\n",
       "  'd',\n",
       "  'c',\n",
       "  'a',\n",
       "  'r',\n",
       "  'd',\n",
       "  'i',\n",
       "  'h',\n",
       "  'a',\n",
       "  'd',\n",
       "  't',\n",
       "  'o',\n",
       "  'd',\n",
       "  'o',\n",
       "  'd',\n",
       "  'i',\n",
       "  'r',\n",
       "  'e',\n",
       "  'c',\n",
       "  't',\n",
       "  'c',\n",
       "  'o',\n",
       "  'm',\n",
       "  'p',\n",
       "  'a',\n",
       "  'r',\n",
       "  'i',\n",
       "  's',\n",
       "  'o',\n",
       "  'n',\n",
       "  's',\n",
       "  'b',\n",
       "  'e',\n",
       "  't',\n",
       "  'w',\n",
       "  'e',\n",
       "  'e',\n",
       "  'n',\n",
       "  't',\n",
       "  'h',\n",
       "  'e',\n",
       "  's',\n",
       "  'a',\n",
       "  'n',\n",
       "  'd',\n",
       "  'i',\n",
       "  's',\n",
       "  'k',\n",
       "  'u',\n",
       "  'l',\n",
       "  't',\n",
       "  'r',\n",
       "  'a',\n",
       "  'e',\n",
       "  'x',\n",
       "  't',\n",
       "  'r',\n",
       "  'e',\n",
       "  'm',\n",
       "  'e',\n",
       "  'a',\n",
       "  'n',\n",
       "  'd',\n",
       "  'e',\n",
       "  'x',\n",
       "  't',\n",
       "  'r',\n",
       "  'e',\n",
       "  'm',\n",
       "  'e',\n",
       "  'p',\n",
       "  'l',\n",
       "  'u',\n",
       "  's',\n",
       "  'a',\n",
       "  's',\n",
       "  'm',\n",
       "  'e',\n",
       "  'n',\n",
       "  't',\n",
       "  'i',\n",
       "  'o',\n",
       "  'n',\n",
       "  'e',\n",
       "  'd',\n",
       "  'i',\n",
       "  'n',\n",
       "  'm',\n",
       "  'y',\n",
       "  'e',\n",
       "  'a',\n",
       "  'r',\n",
       "  'l',\n",
       "  'i',\n",
       "  'e',\n",
       "  'r',\n",
       "  'r',\n",
       "  'e',\n",
       "  'v',\n",
       "  'i',\n",
       "  'e',\n",
       "  'w',\n",
       "  'i',\n",
       "  'p',\n",
       "  'u',\n",
       "  'r',\n",
       "  'c',\n",
       "  'h',\n",
       "  'a',\n",
       "  's',\n",
       "  'e',\n",
       "  'd',\n",
       "  't',\n",
       "  'h',\n",
       "  'e',\n",
       "  's',\n",
       "  'a',\n",
       "  'n',\n",
       "  'd',\n",
       "  'i',\n",
       "  's',\n",
       "  'k',\n",
       "  'u',\n",
       "  'l',\n",
       "  't',\n",
       "  'r',\n",
       "  'a',\n",
       "  'f',\n",
       "  'o',\n",
       "  'r',\n",
       "  'm',\n",
       "  'y',\n",
       "  'g',\n",
       "  'a',\n",
       "  'l',\n",
       "  'a',\n",
       "  'x',\n",
       "  'y',\n",
       "  's',\n",
       "  'm',\n",
       "  'y',\n",
       "  'q',\n",
       "  'u',\n",
       "  'e',\n",
       "  's',\n",
       "  't',\n",
       "  'i',\n",
       "  'o',\n",
       "  'n',\n",
       "  'w',\n",
       "  'a',\n",
       "  's',\n",
       "  'd',\n",
       "  'i',\n",
       "  'd',\n",
       "  'i',\n",
       "  'w',\n",
       "  'a',\n",
       "  'n',\n",
       "  't',\n",
       "  't',\n",
       "  'o',\n",
       "  'p',\n",
       "  'a',\n",
       "  'y',\n",
       "  'o',\n",
       "  'v',\n",
       "  'e',\n",
       "  'r',\n",
       "  'm',\n",
       "  'o',\n",
       "  'r',\n",
       "  'e',\n",
       "  'f',\n",
       "  'o',\n",
       "  'r',\n",
       "  'a',\n",
       "  'c',\n",
       "  'a',\n",
       "  'r',\n",
       "  'd',\n",
       "  't',\n",
       "  'h',\n",
       "  'a',\n",
       "  't',\n",
       "  'i',\n",
       "  's',\n",
       "  'f',\n",
       "  'a',\n",
       "  's',\n",
       "  't',\n",
       "  'e',\n",
       "  'r',\n",
       "  't',\n",
       "  'h',\n",
       "  'a',\n",
       "  'n',\n",
       "  't',\n",
       "  'h',\n",
       "  'e',\n",
       "  'o',\n",
       "  'n',\n",
       "  'e',\n",
       "  'i',\n",
       "  'a',\n",
       "  'l',\n",
       "  'r',\n",
       "  'e',\n",
       "  'a',\n",
       "  'd',\n",
       "  'y',\n",
       "  'o',\n",
       "  'w',\n",
       "  'n',\n",
       "  'e',\n",
       "  'd',\n",
       "  'o',\n",
       "  'r',\n",
       "  'i',\n",
       "  'c',\n",
       "  'o',\n",
       "  'u',\n",
       "  'l',\n",
       "  'd',\n",
       "  'p',\n",
       "  'a',\n",
       "  'y',\n",
       "  'a',\n",
       "  'l',\n",
       "  'm',\n",
       "  'o',\n",
       "  's',\n",
       "  't',\n",
       "  'd',\n",
       "  'o',\n",
       "  'u',\n",
       "  'b',\n",
       "  'l',\n",
       "  'e',\n",
       "  't',\n",
       "  'o',\n",
       "  'g',\n",
       "  'e',\n",
       "  't',\n",
       "  's',\n",
       "  ...])"
      ]
     },
     "execution_count": 13,
     "metadata": {},
     "output_type": "execute_result"
    }
   ],
   "source": [
    "# Converting the list to a single string before applying string methods\n",
    "review_example_string = ' '.join(review_example).lower()\n",
    "review_example_split = review_example_string.split()\n",
    "\n",
    "# Displaying the lowercase string and split words\n",
    "review_example_string, review_example_split\n"
   ]
  },
  {
   "cell_type": "code",
   "execution_count": 14,
   "id": "61bda72e-8f49-4517-b994-a6f6b409778f",
   "metadata": {},
   "outputs": [
    {
     "data": {
      "text/html": [
       "<div>\n",
       "<style scoped>\n",
       "    .dataframe tbody tr th:only-of-type {\n",
       "        vertical-align: middle;\n",
       "    }\n",
       "\n",
       "    .dataframe tbody tr th {\n",
       "        vertical-align: top;\n",
       "    }\n",
       "\n",
       "    .dataframe thead th {\n",
       "        text-align: right;\n",
       "    }\n",
       "</style>\n",
       "<table border=\"1\" class=\"dataframe\">\n",
       "  <thead>\n",
       "    <tr style=\"text-align: right;\">\n",
       "      <th></th>\n",
       "      <th>reviewerName</th>\n",
       "      <th>overall</th>\n",
       "      <th>reviewText</th>\n",
       "      <th>reviewTime</th>\n",
       "      <th>day_diff</th>\n",
       "      <th>helpful_yes</th>\n",
       "      <th>helpful_no</th>\n",
       "      <th>total_vote</th>\n",
       "      <th>score_pos_neg_diff</th>\n",
       "      <th>score_average_rating</th>\n",
       "      <th>wilson_lower_bound</th>\n",
       "    </tr>\n",
       "  </thead>\n",
       "  <tbody>\n",
       "    <tr>\n",
       "      <th>2031</th>\n",
       "      <td>Hyoun Kim \"Faluzure\"</td>\n",
       "      <td>5</td>\n",
       "      <td>update               so my lovely wife boug...</td>\n",
       "      <td>05-01-2013</td>\n",
       "      <td>702</td>\n",
       "      <td>1952</td>\n",
       "      <td>68</td>\n",
       "      <td>2020</td>\n",
       "      <td>1884</td>\n",
       "      <td>0.966337</td>\n",
       "      <td>0.957544</td>\n",
       "    </tr>\n",
       "    <tr>\n",
       "      <th>3449</th>\n",
       "      <td>NLee the Engineer</td>\n",
       "      <td>5</td>\n",
       "      <td>i have tested dozens of sdhc and micro sdhc ca...</td>\n",
       "      <td>26-09-2012</td>\n",
       "      <td>803</td>\n",
       "      <td>1428</td>\n",
       "      <td>77</td>\n",
       "      <td>1505</td>\n",
       "      <td>1351</td>\n",
       "      <td>0.948837</td>\n",
       "      <td>0.936519</td>\n",
       "    </tr>\n",
       "    <tr>\n",
       "      <th>4212</th>\n",
       "      <td>SkincareCEO</td>\n",
       "      <td>1</td>\n",
       "      <td>note   please read the last update  scroll to ...</td>\n",
       "      <td>08-05-2013</td>\n",
       "      <td>579</td>\n",
       "      <td>1568</td>\n",
       "      <td>126</td>\n",
       "      <td>1694</td>\n",
       "      <td>1442</td>\n",
       "      <td>0.925620</td>\n",
       "      <td>0.912139</td>\n",
       "    </tr>\n",
       "    <tr>\n",
       "      <th>317</th>\n",
       "      <td>Amazon Customer \"Kelly\"</td>\n",
       "      <td>1</td>\n",
       "      <td>if your card gets hot enough to be painful  it...</td>\n",
       "      <td>09-02-2012</td>\n",
       "      <td>1033</td>\n",
       "      <td>422</td>\n",
       "      <td>73</td>\n",
       "      <td>495</td>\n",
       "      <td>349</td>\n",
       "      <td>0.852525</td>\n",
       "      <td>0.818577</td>\n",
       "    </tr>\n",
       "    <tr>\n",
       "      <th>4672</th>\n",
       "      <td>Twister</td>\n",
       "      <td>5</td>\n",
       "      <td>sandisk announcement of the first    gb micro ...</td>\n",
       "      <td>03-07-2014</td>\n",
       "      <td>158</td>\n",
       "      <td>45</td>\n",
       "      <td>4</td>\n",
       "      <td>49</td>\n",
       "      <td>41</td>\n",
       "      <td>0.918367</td>\n",
       "      <td>0.808109</td>\n",
       "    </tr>\n",
       "  </tbody>\n",
       "</table>\n",
       "</div>"
      ],
      "text/plain": [
       "                 reviewerName  overall  \\\n",
       "2031     Hyoun Kim \"Faluzure\"        5   \n",
       "3449        NLee the Engineer        5   \n",
       "4212              SkincareCEO        1   \n",
       "317   Amazon Customer \"Kelly\"        1   \n",
       "4672                  Twister        5   \n",
       "\n",
       "                                             reviewText  reviewTime  day_diff  \\\n",
       "2031     update               so my lovely wife boug...  05-01-2013       702   \n",
       "3449  i have tested dozens of sdhc and micro sdhc ca...  26-09-2012       803   \n",
       "4212  note   please read the last update  scroll to ...  08-05-2013       579   \n",
       "317   if your card gets hot enough to be painful  it...  09-02-2012      1033   \n",
       "4672  sandisk announcement of the first    gb micro ...  03-07-2014       158   \n",
       "\n",
       "      helpful_yes  helpful_no  total_vote  score_pos_neg_diff  \\\n",
       "2031         1952          68        2020                1884   \n",
       "3449         1428          77        1505                1351   \n",
       "4212         1568         126        1694                1442   \n",
       "317           422          73         495                 349   \n",
       "4672           45           4          49                  41   \n",
       "\n",
       "      score_average_rating  wilson_lower_bound  \n",
       "2031              0.966337            0.957544  \n",
       "3449              0.948837            0.936519  \n",
       "4212              0.925620            0.912139  \n",
       "317               0.852525            0.818577  \n",
       "4672              0.918367            0.808109  "
      ]
     },
     "execution_count": 14,
     "metadata": {},
     "output_type": "execute_result"
    }
   ],
   "source": [
    "rt = lambda x: re.sub(\"[^a-zA-Z]\", ' ',str(x))\n",
    "df[\"reviewText\"] = df[\"reviewText\"].map(rt)\n",
    "\n",
    "df[\"reviewText\"] = df[\"reviewText\"].str.lower()\n",
    "df.head()\n"
   ]
  },
  {
   "cell_type": "code",
   "execution_count": 15,
   "id": "4c4cb62c-8db6-4260-b40a-e8d71ac8d78b",
   "metadata": {},
   "outputs": [
    {
     "name": "stdout",
     "output_type": "stream",
     "text": [
      "Requirement already satisfied: vaderSentiment in c:\\users\\kiit\\anaconda3\\lib\\site-packages (3.3.2)\n",
      "Requirement already satisfied: requests in c:\\users\\kiit\\anaconda3\\lib\\site-packages (from vaderSentiment) (2.31.0)\n",
      "Requirement already satisfied: charset-normalizer<4,>=2 in c:\\users\\kiit\\anaconda3\\lib\\site-packages (from requests->vaderSentiment) (2.0.4)\n",
      "Requirement already satisfied: idna<4,>=2.5 in c:\\users\\kiit\\anaconda3\\lib\\site-packages (from requests->vaderSentiment) (3.4)\n",
      "Requirement already satisfied: urllib3<3,>=1.21.1 in c:\\users\\kiit\\anaconda3\\lib\\site-packages (from requests->vaderSentiment) (2.0.7)\n",
      "Requirement already satisfied: certifi>=2017.4.17 in c:\\users\\kiit\\anaconda3\\lib\\site-packages (from requests->vaderSentiment) (2024.2.2)\n"
     ]
    }
   ],
   "source": [
    "!pip install vaderSentiment"
   ]
  },
  {
   "cell_type": "code",
   "execution_count": 16,
   "id": "48c62473-8183-4f68-bdf9-ecd78f5587c0",
   "metadata": {
    "scrolled": true
   },
   "outputs": [
    {
     "name": "stdout",
     "output_type": "stream",
     "text": [
      "Requirement already satisfied: textblob in c:\\users\\kiit\\anaconda3\\lib\\site-packages (0.18.0.post0)\n",
      "Requirement already satisfied: nltk>=3.8 in c:\\users\\kiit\\anaconda3\\lib\\site-packages (from textblob) (3.8.1)\n",
      "Requirement already satisfied: click in c:\\users\\kiit\\anaconda3\\lib\\site-packages (from nltk>=3.8->textblob) (8.1.7)\n",
      "Requirement already satisfied: joblib in c:\\users\\kiit\\anaconda3\\lib\\site-packages (from nltk>=3.8->textblob) (1.2.0)\n",
      "Requirement already satisfied: regex>=2021.8.3 in c:\\users\\kiit\\anaconda3\\lib\\site-packages (from nltk>=3.8->textblob) (2023.10.3)\n",
      "Requirement already satisfied: tqdm in c:\\users\\kiit\\anaconda3\\lib\\site-packages (from nltk>=3.8->textblob) (4.65.0)\n",
      "Requirement already satisfied: colorama in c:\\users\\kiit\\appdata\\roaming\\python\\python311\\site-packages (from click->nltk>=3.8->textblob) (0.4.6)\n"
     ]
    }
   ],
   "source": [
    "!pip install textblob"
   ]
  },
  {
   "cell_type": "code",
   "execution_count": 17,
   "id": "ec542f9f-40c8-4185-9090-5ff6c3032fdf",
   "metadata": {},
   "outputs": [],
   "source": [
    "from vaderSentiment.vaderSentiment import SentimentIntensityAnalyzer\n",
    "import pandas as pd\n",
    "from textblob import TextBlob\n",
    "\n",
    "sid = SentimentIntensityAnalyzer()\n",
    "\n",
    "\n",
    "def get_vader_sentiment(text):\n",
    "    score = sid.polarity_scores(text)\n",
    "    if score['compound'] > 0:\n",
    "        return 'Positive'\n",
    "    elif score['compound'] < 0:\n",
    "        return 'Negative'\n",
    "    else:\n",
    "        return 'Neutral'\n",
    "\n",
    "df[['polarity', 'subjectivity']] = df['reviewText'].apply(lambda x: pd.Series([TextBlob(x).sentiment.polarity, TextBlob(x).sentiment.subjectivity]))\n",
    "\n",
    "df['sentiment'] = df['reviewText'].apply(get_vader_sentiment)\n",
    "\n",
    "positive_data = df[df['sentiment'] == 'Positive'].nlargest(5, 'polarity')\n",
    "\n",
    "categorical_variable_summary = df['sentiment'].value_counts()\n",
    "\n",
    "\n"
   ]
  },
  {
   "cell_type": "code",
   "execution_count": 18,
   "id": "dfd242ad-8ea5-4539-b8f4-f7b686dc55bf",
   "metadata": {},
   "outputs": [
    {
     "name": "stdout",
     "output_type": "stream",
     "text": [
      "Top 5 positive sentiment reviews:\n",
      "                    reviewerName  overall  \\\n",
      "2885  L. P. Nugaliyadda \"Pramod\"        5   \n",
      "3872                Road Warrior        5   \n",
      "3227              milie Sarrazin        5   \n",
      "3605               peter Metcalf        5   \n",
      "3407                         NEM        5   \n",
      "\n",
      "                                             reviewText  reviewTime  day_diff  \\\n",
      "2885  superb  no complains what so ever  i bought th...  21-03-2014       262   \n",
      "3872  i bought this for my gopro hero   and it perfo...  13-05-2013       574   \n",
      "3227  works superbly with my microsoft surface rt  o...  15-02-2014       296   \n",
      "3605                                            perfect  07-02-2014       304   \n",
      "3407  excellent item for the price  class    is the ...  03-03-2013       645   \n",
      "\n",
      "      helpful_yes  helpful_no  total_vote  score_pos_neg_diff  \\\n",
      "2885            1           0           1                   1   \n",
      "3872            1           0           1                   1   \n",
      "3227            0           0           0                   0   \n",
      "3605            0           0           0                   0   \n",
      "3407            0           0           0                   0   \n",
      "\n",
      "      score_average_rating  wilson_lower_bound  polarity  subjectivity  \\\n",
      "2885                   1.0            0.206549       1.0          1.00   \n",
      "3872                   1.0            0.206549       1.0          1.00   \n",
      "3227                   0.0            0.000000       1.0          0.65   \n",
      "3605                   0.0            0.000000       1.0          1.00   \n",
      "3407                   0.0            0.000000       1.0          1.00   \n",
      "\n",
      "     sentiment  \n",
      "2885  Positive  \n",
      "3872  Positive  \n",
      "3227  Positive  \n",
      "3605  Positive  \n",
      "3407  Positive  \n"
     ]
    }
   ],
   "source": [
    "print(\"Top 5 positive sentiment reviews:\")\n",
    "print(positive_data)"
   ]
  },
  {
   "cell_type": "code",
   "execution_count": 19,
   "id": "20b50da9-4db1-4e51-bf23-2706c409e88d",
   "metadata": {},
   "outputs": [
    {
     "name": "stdout",
     "output_type": "stream",
     "text": [
      "\n",
      "Categorical variable summary for sentiment:\n",
      "sentiment\n",
      "Positive    3998\n",
      "Negative     644\n",
      "Neutral      273\n",
      "Name: count, dtype: int64\n"
     ]
    }
   ],
   "source": [
    "print(\"\\nCategorical variable summary for sentiment:\")\n",
    "print(categorical_variable_summary)"
   ]
  },
  {
   "cell_type": "code",
   "execution_count": null,
   "id": "1bb9ef12-c863-4b1a-b751-a764f82be80d",
   "metadata": {},
   "outputs": [],
   "source": [
    "df"
   ]
  }
 ],
 "metadata": {
  "kernelspec": {
   "display_name": "Python 3 (ipykernel)",
   "language": "python",
   "name": "python3"
  },
  "language_info": {
   "codemirror_mode": {
    "name": "ipython",
    "version": 3
   },
   "file_extension": ".py",
   "mimetype": "text/x-python",
   "name": "python",
   "nbconvert_exporter": "python",
   "pygments_lexer": "ipython3",
   "version": "3.11.7"
  }
 },
 "nbformat": 4,
 "nbformat_minor": 5
}
